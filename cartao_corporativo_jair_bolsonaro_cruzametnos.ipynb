{
  "nbformat": 4,
  "nbformat_minor": 0,
  "metadata": {
    "colab": {
      "provenance": []
    },
    "kernelspec": {
      "name": "python3",
      "display_name": "Python 3"
    },
    "language_info": {
      "name": "python"
    }
  },
  "cells": [
    {
      "cell_type": "code",
      "execution_count": null,
      "metadata": {
        "id": "DbXHsxneR1DL"
      },
      "outputs": [],
      "source": [
        "import requests\n",
        "import pandas as pd\n",
        "from joblib import Parallel, delayed\n",
        "from tqdm import tqdm\n"
      ]
    },
    {
      "cell_type": "code",
      "source": [
        "df_dados = pd.read_csv(\"https://docs.google.com/spreadsheets/d/e/2PACX-1vTQvGH2nk_Mycr6sW2Mt0NEE404AVxtdEWrwNridewLdu9zcP_t0RAOOxihcj4XLobhg0oxuuoLwggg/pub?gid=1811600516&single=true&output=csv\",\n",
        "                      dtype = 'str')\n",
        "\n",
        "df_dados.head()"
      ],
      "metadata": {
        "colab": {
          "base_uri": "https://localhost:8080/",
          "height": 493
        },
        "id": "-HBhlEb_R1uF",
        "outputId": "5dbd0f11-7c7f-4f95-e7d7-962cd77b2be9"
      },
      "execution_count": null,
      "outputs": [
        {
          "output_type": "execute_result",
          "data": {
            "text/plain": [
              "    DATA PGTO   ANO    CPF SERVIDOR CPF/CNPJ FORNECEDOR  \\\n",
              "0  04/01/2019  2019  ***.135.521-**      03696869000100   \n",
              "1  04/01/2019  2019  ***.135.521-**      17871449001957   \n",
              "2  04/01/2019  2019  ***.135.521-**      12137325000108   \n",
              "3  04/01/2019  2019  ***.135.521-**      03696869000100   \n",
              "4  04/01/2019  2019  ***.135.521-**      01610583000135   \n",
              "\n",
              "                                 NOME FORNECEDOR        VALOR TIPO  \\\n",
              "0          BIG TRANS COMERCIAL DE ALIMENTOS LTDA    R$ 303,78    C   \n",
              "1                        SHOPPING DOS COSMÉTICOS     R$ 63,70    C   \n",
              "2                            PEIXARIA GUARA LTDA  R$ 3.749,99    C   \n",
              "3          BIG TRANS COMERCIAL DE ALIMENTOS LTDA     R$ 42,02    C   \n",
              "4  DISTRIBUIDORA DE CARNE MORRO BRANCO LTDA - ME    R$ 614,88    C   \n",
              "\n",
              "                        SUBELEMENTO DE DESPESA  \\\n",
              "0                       GENEROS DE ALIMENTA€ÇO   \n",
              "1  MATERIAL DE LIMPEZA E PROD. DE HIGIENIZA€ÇO   \n",
              "2                       GENEROS DE ALIMENTA€ÇO   \n",
              "3                       GENEROS DE ALIMENTA€ÇO   \n",
              "4                       GENEROS DE ALIMENTA€ÇO   \n",
              "\n",
              "                                                CDIC  \n",
              "0  00140.000911/2018-70.R.08.01/01/2019/31/12/2018.N  \n",
              "1  00140.000911/2018-70.R.08.01/01/2019/31/12/2018.N  \n",
              "2  00140.000911/2018-70.R.08.01/01/2019/31/12/2018.N  \n",
              "3  00140.000911/2018-70.R.08.01/01/2019/31/12/2018.N  \n",
              "4  00140.000911/2018-70.R.08.01/01/2019/31/12/2018.N  "
            ],
            "text/html": [
              "\n",
              "  <div id=\"df-e53f7476-d4d5-4b8f-8462-67ff65ae0589\">\n",
              "    <div class=\"colab-df-container\">\n",
              "      <div>\n",
              "<style scoped>\n",
              "    .dataframe tbody tr th:only-of-type {\n",
              "        vertical-align: middle;\n",
              "    }\n",
              "\n",
              "    .dataframe tbody tr th {\n",
              "        vertical-align: top;\n",
              "    }\n",
              "\n",
              "    .dataframe thead th {\n",
              "        text-align: right;\n",
              "    }\n",
              "</style>\n",
              "<table border=\"1\" class=\"dataframe\">\n",
              "  <thead>\n",
              "    <tr style=\"text-align: right;\">\n",
              "      <th></th>\n",
              "      <th>DATA PGTO</th>\n",
              "      <th>ANO</th>\n",
              "      <th>CPF SERVIDOR</th>\n",
              "      <th>CPF/CNPJ FORNECEDOR</th>\n",
              "      <th>NOME FORNECEDOR</th>\n",
              "      <th>VALOR</th>\n",
              "      <th>TIPO</th>\n",
              "      <th>SUBELEMENTO DE DESPESA</th>\n",
              "      <th>CDIC</th>\n",
              "    </tr>\n",
              "  </thead>\n",
              "  <tbody>\n",
              "    <tr>\n",
              "      <th>0</th>\n",
              "      <td>04/01/2019</td>\n",
              "      <td>2019</td>\n",
              "      <td>***.135.521-**</td>\n",
              "      <td>03696869000100</td>\n",
              "      <td>BIG TRANS COMERCIAL DE ALIMENTOS LTDA</td>\n",
              "      <td>R$ 303,78</td>\n",
              "      <td>C</td>\n",
              "      <td>GENEROS DE ALIMENTA€ÇO</td>\n",
              "      <td>00140.000911/2018-70.R.08.01/01/2019/31/12/2018.N</td>\n",
              "    </tr>\n",
              "    <tr>\n",
              "      <th>1</th>\n",
              "      <td>04/01/2019</td>\n",
              "      <td>2019</td>\n",
              "      <td>***.135.521-**</td>\n",
              "      <td>17871449001957</td>\n",
              "      <td>SHOPPING DOS COSMÉTICOS</td>\n",
              "      <td>R$ 63,70</td>\n",
              "      <td>C</td>\n",
              "      <td>MATERIAL DE LIMPEZA E PROD. DE HIGIENIZA€ÇO</td>\n",
              "      <td>00140.000911/2018-70.R.08.01/01/2019/31/12/2018.N</td>\n",
              "    </tr>\n",
              "    <tr>\n",
              "      <th>2</th>\n",
              "      <td>04/01/2019</td>\n",
              "      <td>2019</td>\n",
              "      <td>***.135.521-**</td>\n",
              "      <td>12137325000108</td>\n",
              "      <td>PEIXARIA GUARA LTDA</td>\n",
              "      <td>R$ 3.749,99</td>\n",
              "      <td>C</td>\n",
              "      <td>GENEROS DE ALIMENTA€ÇO</td>\n",
              "      <td>00140.000911/2018-70.R.08.01/01/2019/31/12/2018.N</td>\n",
              "    </tr>\n",
              "    <tr>\n",
              "      <th>3</th>\n",
              "      <td>04/01/2019</td>\n",
              "      <td>2019</td>\n",
              "      <td>***.135.521-**</td>\n",
              "      <td>03696869000100</td>\n",
              "      <td>BIG TRANS COMERCIAL DE ALIMENTOS LTDA</td>\n",
              "      <td>R$ 42,02</td>\n",
              "      <td>C</td>\n",
              "      <td>GENEROS DE ALIMENTA€ÇO</td>\n",
              "      <td>00140.000911/2018-70.R.08.01/01/2019/31/12/2018.N</td>\n",
              "    </tr>\n",
              "    <tr>\n",
              "      <th>4</th>\n",
              "      <td>04/01/2019</td>\n",
              "      <td>2019</td>\n",
              "      <td>***.135.521-**</td>\n",
              "      <td>01610583000135</td>\n",
              "      <td>DISTRIBUIDORA DE CARNE MORRO BRANCO LTDA - ME</td>\n",
              "      <td>R$ 614,88</td>\n",
              "      <td>C</td>\n",
              "      <td>GENEROS DE ALIMENTA€ÇO</td>\n",
              "      <td>00140.000911/2018-70.R.08.01/01/2019/31/12/2018.N</td>\n",
              "    </tr>\n",
              "  </tbody>\n",
              "</table>\n",
              "</div>\n",
              "      <button class=\"colab-df-convert\" onclick=\"convertToInteractive('df-e53f7476-d4d5-4b8f-8462-67ff65ae0589')\"\n",
              "              title=\"Convert this dataframe to an interactive table.\"\n",
              "              style=\"display:none;\">\n",
              "        \n",
              "  <svg xmlns=\"http://www.w3.org/2000/svg\" height=\"24px\"viewBox=\"0 0 24 24\"\n",
              "       width=\"24px\">\n",
              "    <path d=\"M0 0h24v24H0V0z\" fill=\"none\"/>\n",
              "    <path d=\"M18.56 5.44l.94 2.06.94-2.06 2.06-.94-2.06-.94-.94-2.06-.94 2.06-2.06.94zm-11 1L8.5 8.5l.94-2.06 2.06-.94-2.06-.94L8.5 2.5l-.94 2.06-2.06.94zm10 10l.94 2.06.94-2.06 2.06-.94-2.06-.94-.94-2.06-.94 2.06-2.06.94z\"/><path d=\"M17.41 7.96l-1.37-1.37c-.4-.4-.92-.59-1.43-.59-.52 0-1.04.2-1.43.59L10.3 9.45l-7.72 7.72c-.78.78-.78 2.05 0 2.83L4 21.41c.39.39.9.59 1.41.59.51 0 1.02-.2 1.41-.59l7.78-7.78 2.81-2.81c.8-.78.8-2.07 0-2.86zM5.41 20L4 18.59l7.72-7.72 1.47 1.35L5.41 20z\"/>\n",
              "  </svg>\n",
              "      </button>\n",
              "      \n",
              "  <style>\n",
              "    .colab-df-container {\n",
              "      display:flex;\n",
              "      flex-wrap:wrap;\n",
              "      gap: 12px;\n",
              "    }\n",
              "\n",
              "    .colab-df-convert {\n",
              "      background-color: #E8F0FE;\n",
              "      border: none;\n",
              "      border-radius: 50%;\n",
              "      cursor: pointer;\n",
              "      display: none;\n",
              "      fill: #1967D2;\n",
              "      height: 32px;\n",
              "      padding: 0 0 0 0;\n",
              "      width: 32px;\n",
              "    }\n",
              "\n",
              "    .colab-df-convert:hover {\n",
              "      background-color: #E2EBFA;\n",
              "      box-shadow: 0px 1px 2px rgba(60, 64, 67, 0.3), 0px 1px 3px 1px rgba(60, 64, 67, 0.15);\n",
              "      fill: #174EA6;\n",
              "    }\n",
              "\n",
              "    [theme=dark] .colab-df-convert {\n",
              "      background-color: #3B4455;\n",
              "      fill: #D2E3FC;\n",
              "    }\n",
              "\n",
              "    [theme=dark] .colab-df-convert:hover {\n",
              "      background-color: #434B5C;\n",
              "      box-shadow: 0px 1px 3px 1px rgba(0, 0, 0, 0.15);\n",
              "      filter: drop-shadow(0px 1px 2px rgba(0, 0, 0, 0.3));\n",
              "      fill: #FFFFFF;\n",
              "    }\n",
              "  </style>\n",
              "\n",
              "      <script>\n",
              "        const buttonEl =\n",
              "          document.querySelector('#df-e53f7476-d4d5-4b8f-8462-67ff65ae0589 button.colab-df-convert');\n",
              "        buttonEl.style.display =\n",
              "          google.colab.kernel.accessAllowed ? 'block' : 'none';\n",
              "\n",
              "        async function convertToInteractive(key) {\n",
              "          const element = document.querySelector('#df-e53f7476-d4d5-4b8f-8462-67ff65ae0589');\n",
              "          const dataTable =\n",
              "            await google.colab.kernel.invokeFunction('convertToInteractive',\n",
              "                                                     [key], {});\n",
              "          if (!dataTable) return;\n",
              "\n",
              "          const docLinkHtml = 'Like what you see? Visit the ' +\n",
              "            '<a target=\"_blank\" href=https://colab.research.google.com/notebooks/data_table.ipynb>data table notebook</a>'\n",
              "            + ' to learn more about interactive tables.';\n",
              "          element.innerHTML = '';\n",
              "          dataTable['output_type'] = 'display_data';\n",
              "          await google.colab.output.renderOutput(dataTable, element);\n",
              "          const docLink = document.createElement('div');\n",
              "          docLink.innerHTML = docLinkHtml;\n",
              "          element.appendChild(docLink);\n",
              "        }\n",
              "      </script>\n",
              "    </div>\n",
              "  </div>\n",
              "  "
            ]
          },
          "metadata": {},
          "execution_count": 3
        }
      ]
    },
    {
      "cell_type": "code",
      "source": [
        "df_dados[\"CPF/CNPJ FORNECEDOR\"].describe()"
      ],
      "metadata": {
        "colab": {
          "base_uri": "https://localhost:8080/"
        },
        "id": "ZHHRFNMhVvHA",
        "outputId": "d444fdf8-4203-4766-a151-973bc0e4c50e"
      },
      "execution_count": null,
      "outputs": [
        {
          "output_type": "execute_result",
          "data": {
            "text/plain": [
              "count              13338\n",
              "unique              1858\n",
              "top       03696869000100\n",
              "freq                1495\n",
              "Name: CPF/CNPJ FORNECEDOR, dtype: object"
            ]
          },
          "metadata": {},
          "execution_count": 5
        }
      ]
    },
    {
      "cell_type": "code",
      "source": [
        "# df_dados[\"CPF/CNPJ FORNECEDOR\"] = df_dados[\"CPF/CNPJ FORNECEDOR\"].astype(str)"
      ],
      "metadata": {
        "id": "tkJ1v1DEUuQX"
      },
      "execution_count": null,
      "outputs": []
    },
    {
      "cell_type": "code",
      "source": [
        "df_dados.info()"
      ],
      "metadata": {
        "colab": {
          "base_uri": "https://localhost:8080/"
        },
        "id": "f2le7oqsR_nC",
        "outputId": "89f7b995-47d2-4883-f369-6af2ea0ce498"
      },
      "execution_count": null,
      "outputs": [
        {
          "output_type": "stream",
          "name": "stdout",
          "text": [
            "<class 'pandas.core.frame.DataFrame'>\n",
            "RangeIndex: 13339 entries, 0 to 13338\n",
            "Data columns (total 9 columns):\n",
            " #   Column                  Non-Null Count  Dtype \n",
            "---  ------                  --------------  ----- \n",
            " 0   DATA PGTO               13339 non-null  object\n",
            " 1   ANO                     13339 non-null  object\n",
            " 2   CPF SERVIDOR            13339 non-null  object\n",
            " 3   CPF/CNPJ FORNECEDOR     13338 non-null  object\n",
            " 4   NOME FORNECEDOR         13339 non-null  object\n",
            " 5   VALOR                   13339 non-null  object\n",
            " 6   TIPO                    13339 non-null  object\n",
            " 7   SUBELEMENTO DE DESPESA  13339 non-null  object\n",
            " 8   CDIC                    13339 non-null  object\n",
            "dtypes: object(9)\n",
            "memory usage: 938.0+ KB\n"
          ]
        }
      ]
    },
    {
      "cell_type": "code",
      "source": [
        "pais = []\n",
        "uf = []\n",
        "municipio = []\n",
        "bairro = []\n",
        "logradouro = []\n",
        "nome_fantasia = []\n",
        "socios = []\n",
        "\n",
        "for cnpj in tqdm(df_dados[\"CPF/CNPJ FORNECEDOR\"]):\n",
        "  \n",
        "  try:\n",
        "    response = requests.get(f\"https://brasilapi.com.br/api/cnpj/v1/{cnpj}\")\n",
        "    dados_cnpj = response.json()\n",
        "  except:\n",
        "    dados_cnpj = []\n",
        "  \n",
        "  try:\n",
        "    pais.append(dados_cnpj[\"pais\"])\n",
        "  except:\n",
        "    pais.append(\"NaN\")\n",
        "\n",
        "  try:\n",
        "    uf.append(dados_cnpj[\"uf\"])\n",
        "  except:\n",
        "    uf.append(\"NaN\")\n",
        "  \n",
        "  try:\n",
        "    municipio.append(dados_cnpj[\"municipio\"])\n",
        "  except:\n",
        "    municipio.append(\"NaN\")\n",
        "  \n",
        "  try:\n",
        "    bairro.append(dados_cnpj[\"bairro\"])\n",
        "  except:\n",
        "    bairro.append(\"NaN\")\n",
        "\n",
        "  try:\n",
        "    logradouro.append(dados_cnpj[\"logradouro\"])\n",
        "  except:\n",
        "    logradouro.append(\"NaN\")\n",
        "  \n",
        "  try:\n",
        "    nome_fantasia.append(dados_cnpj[\"nome_fantasia\"])\n",
        "  except:\n",
        "    nome_fantasia.append(\"NaN\")\n",
        "\n",
        "  try:\n",
        "    socios.append(dados_cnpj[\"qsa\"])\n",
        "  except:\n",
        "    socios.append(\"NaN\")\n",
        "\n",
        "  # print(f'{response}: {cnpj}')\n",
        "\n",
        "\n",
        "df_dados[\"pais\"] = pais\n",
        "df_dados[\"uf\"] = uf\n",
        "df_dados[\"municipio\"] = municipio\n",
        "df_dados[\"bairro\"] = bairro\n",
        "df_dados[\"logradouro\"] = logradouro\n",
        "df_dados[\"nome_fantasia\"] = nome_fantasia\n",
        "df_dados[\"socios\"] = socios\n",
        "\n"
      ],
      "metadata": {
        "colab": {
          "base_uri": "https://localhost:8080/"
        },
        "id": "4amP3sK6ZmXQ",
        "outputId": "a3d2d9f8-a5b9-4f6e-cd86-4e56212eed16"
      },
      "execution_count": null,
      "outputs": [
        {
          "output_type": "stream",
          "name": "stderr",
          "text": [
            "100%|██████████| 13339/13339 [19:59<00:00, 11.12it/s]\n"
          ]
        }
      ]
    },
    {
      "cell_type": "code",
      "source": [
        "df_dados.to_csv(\"cartao_coporativo_bolsonaro_com_dados_cnpj.csv\")\n"
      ],
      "metadata": {
        "id": "mZYpxRP6wYmC"
      },
      "execution_count": null,
      "outputs": []
    },
    {
      "cell_type": "markdown",
      "source": [
        "### Coletando dados de sócios"
      ],
      "metadata": {
        "id": "Y7ed4J3bsaN0"
      }
    },
    {
      "cell_type": "code",
      "source": [
        "df_teste = df_dados.head(10)"
      ],
      "metadata": {
        "id": "j0XLrqvbrmbW"
      },
      "execution_count": null,
      "outputs": []
    },
    {
      "cell_type": "code",
      "source": [
        "df_teste"
      ],
      "metadata": {
        "id": "voU-rIkPsj0M"
      },
      "execution_count": null,
      "outputs": []
    },
    {
      "cell_type": "code",
      "source": [
        "pais = []\n",
        "uf = []\n",
        "municipio = []\n",
        "bairro = []\n",
        "logradouro = []\n",
        "nome_fantasia = []\n",
        "nomes_socios_1 = []\n",
        "cpf_socios_1 = []\n",
        "faixa_etaria_socios_1 = []\n",
        "quant_socios_geral = []\n",
        "\n",
        "\n",
        "for cnpj in tqdm(df_dados[\"CPF/CNPJ FORNECEDOR\"]):\n",
        "  \n",
        "  try:\n",
        "    response = requests.get(f\"https://brasilapi.com.br/api/cnpj/v1/{cnpj}\")\n",
        "    dados_cnpj = response.json()\n",
        "  except:\n",
        "    dados_cnpj = []\n",
        "  \n",
        "  try:\n",
        "    pais.append(dados_cnpj[\"pais\"])\n",
        "  except:\n",
        "    pais.append(\"NaN\")\n",
        "\n",
        "  try:\n",
        "    uf.append(dados_cnpj[\"uf\"])\n",
        "  except:\n",
        "    uf.append(\"NaN\")\n",
        "  \n",
        "  try:\n",
        "    municipio.append(dados_cnpj[\"municipio\"])\n",
        "  except:\n",
        "    municipio.append(\"NaN\")\n",
        "  \n",
        "  try:\n",
        "    bairro.append(dados_cnpj[\"bairro\"])\n",
        "  except:\n",
        "    bairro.append(\"NaN\")\n",
        "\n",
        "  try:\n",
        "    logradouro.append(dados_cnpj[\"logradouro\"])\n",
        "  except:\n",
        "    logradouro.append(\"NaN\")\n",
        "  \n",
        "  try:\n",
        "    nome_fantasia.append(dados_cnpj[\"nome_fantasia\"])\n",
        "  except:\n",
        "    nome_fantasia.append(\"NaN\")\n",
        "\n",
        "  try:\n",
        "    nomes_socios = []\n",
        "    cpf_socios = []\n",
        "    faixa_etaria_socios = []\n",
        "\n",
        "    if len(dados_cnpj[\"qsa\"]) < 1:\n",
        "      quant_socios = 0\n",
        "    else: \n",
        "      quant_socios = len(dados_cnpj[\"qsa\"])\n",
        "\n",
        "    for item in dados_cnpj[\"qsa\"]:\n",
        "      nomes_socios.append(item[\"nome_socio\"])\n",
        "      cpf_socios.append(item[\"cnpj_cpf_do_socio\"])\n",
        "      faixa_etaria_socios.append(item[\"faixa_etaria\"])\n",
        "\n",
        "    nomes_socios_1.append(nomes_socios)\n",
        "    cpf_socios_1.append(cpf_socios)\n",
        "    faixa_etaria_socios_1.append(faixa_etaria_socios)\n",
        "    quant_socios_geral.append(quant_socios)\n",
        "      \n",
        "  except:\n",
        "    # socios.append(\"NaN\")\n",
        "    nomes_socios_1.append(\"NaN\")\n",
        "    cpf_socios_1.append(\"NaN\")\n",
        "    faixa_etaria_socios_1.append(\"NaN\")\n",
        "    quant_socios_geral.append(\"NaN\")\n",
        "\n",
        "  # print(f'{response}: {cnpj}')\n",
        "\n",
        "\n",
        "df_dados[\"pais\"] = pais\n",
        "df_dados[\"uf\"] = uf\n",
        "df_dados[\"municipio\"] = municipio\n",
        "df_dados[\"bairro\"] = bairro\n",
        "df_dados[\"logradouro\"] = logradouro\n",
        "df_dados[\"nome_fantasia\"] = nome_fantasia\n",
        "df_dados[\"quant_socios\"] = quant_socios_geral\n",
        "df_dados[\"nomes_socios\"] = nomes_socios_1\n",
        "df_dados[\"cpf_socios\"] = cpf_socios_1\n",
        "df_dados[\"faixa_etaria_socios\"] = faixa_etaria_socios_1\n",
        "\n",
        "\n"
      ],
      "metadata": {
        "colab": {
          "base_uri": "https://localhost:8080/"
        },
        "id": "cphnFahDsdc5",
        "outputId": "8485a826-3417-42dd-9ada-a95258e3b50d"
      },
      "execution_count": null,
      "outputs": [
        {
          "output_type": "stream",
          "name": "stderr",
          "text": [
            "100%|██████████| 13339/13339 [29:52<00:00,  7.44it/s]\n"
          ]
        }
      ]
    },
    {
      "cell_type": "code",
      "source": [
        "df_dados[\"quant_socios\"].describe()"
      ],
      "metadata": {
        "colab": {
          "base_uri": "https://localhost:8080/"
        },
        "id": "iohhT089w_lO",
        "outputId": "d85937f6-0eb8-4fbb-a6ae-7ba69ed1e5bc"
      },
      "execution_count": null,
      "outputs": [
        {
          "output_type": "execute_result",
          "data": {
            "text/plain": [
              "count     13339\n",
              "unique       20\n",
              "top           2\n",
              "freq       5366\n",
              "Name: quant_socios, dtype: int64"
            ]
          },
          "metadata": {},
          "execution_count": 45
        }
      ]
    },
    {
      "cell_type": "code",
      "source": [
        "df_dados.to_csv(\"cartao_coporativo_bolsonaro_com_socios.csv\")\n"
      ],
      "metadata": {
        "id": "9BSvhcVy7M9M"
      },
      "execution_count": null,
      "outputs": []
    },
    {
      "cell_type": "markdown",
      "source": [
        "### Testatando API de CNPJ"
      ],
      "metadata": {
        "id": "6-ucwsS_s2A-"
      }
    },
    {
      "cell_type": "code",
      "source": [
        "cnpj = \"27865757000102\"\n",
        "response = requests.get(f\"https://brasilapi.com.br/api/cnpj/v1/{cnpj}\")\n",
        "print(response)"
      ],
      "metadata": {
        "colab": {
          "base_uri": "https://localhost:8080/"
        },
        "id": "px3ictXYUHfb",
        "outputId": "5bc4b6a1-40b3-4f63-a29a-e27d47047844"
      },
      "execution_count": null,
      "outputs": [
        {
          "output_type": "stream",
          "name": "stdout",
          "text": [
            "<Response [200]>\n"
          ]
        }
      ]
    },
    {
      "cell_type": "code",
      "source": [
        "dados_cnpj = response.json()\n",
        "dados_cnpj[\"cnpj\"]"
      ],
      "metadata": {
        "colab": {
          "base_uri": "https://localhost:8080/",
          "height": 35
        },
        "id": "rI4ILrAbY5QE",
        "outputId": "7128c0a5-f686-42f1-f41d-b752d4a6f483"
      },
      "execution_count": null,
      "outputs": [
        {
          "output_type": "execute_result",
          "data": {
            "text/plain": [
              "'27865757000102'"
            ],
            "application/vnd.google.colaboratory.intrinsic+json": {
              "type": "string"
            }
          },
          "metadata": {},
          "execution_count": 16
        }
      ]
    },
    {
      "cell_type": "code",
      "source": [
        "\n",
        "nomes_socios = []\n",
        "cpf_socios = []\n",
        "faixa_etaria_socios = []\n",
        "\n",
        "for item in dados_cnpj[\"qsa\"]:\n",
        "  print(item)\n",
        "  print(item[\"nome_socio\"])\n",
        "  nomes_socios.append(item[\"nome_socio\"])\n",
        "  cpf_socios.append(item[\"cnpj_cpf_do_socio\"])\n",
        "  faixa_etaria_socios.append(item[\"faixa_etaria\"])\n",
        "  \n",
        "  "
      ],
      "metadata": {
        "colab": {
          "base_uri": "https://localhost:8080/"
        },
        "id": "A81Y7GBEs-No",
        "outputId": "bd8cf691-df72-4933-d590-c73acc8f676b"
      },
      "execution_count": null,
      "outputs": [
        {
          "output_type": "stream",
          "name": "stdout",
          "text": [
            "{'pais': None, 'nome_socio': 'PAULO DAUDT MARINHO', 'codigo_pais': None, 'faixa_etaria': 'Entre 41 a 50 anos', 'cnpj_cpf_do_socio': '***048947**', 'qualificacao_socio': 'Diretor', 'codigo_faixa_etaria': 5, 'data_entrada_sociedade': '2020-01-16', 'identificador_de_socio': 2, 'cpf_representante_legal': '***000000**', 'nome_representante_legal': '', 'codigo_qualificacao_socio': 10, 'qualificacao_representante_legal': 'Não informada', 'codigo_qualificacao_representante_legal': 0}\n",
            "PAULO DAUDT MARINHO\n",
            "{'pais': None, 'nome_socio': 'ERICK DE MIRANDA BRETAS', 'codigo_pais': None, 'faixa_etaria': 'Entre 41 a 50 anos', 'cnpj_cpf_do_socio': '***223047**', 'qualificacao_socio': 'Diretor', 'codigo_faixa_etaria': 5, 'data_entrada_sociedade': '2020-01-16', 'identificador_de_socio': 2, 'cpf_representante_legal': '***000000**', 'nome_representante_legal': '', 'codigo_qualificacao_socio': 10, 'qualificacao_representante_legal': 'Não informada', 'codigo_qualificacao_representante_legal': 0}\n",
            "ERICK DE MIRANDA BRETAS\n",
            "{'pais': None, 'nome_socio': 'CLAUDIA FALCAO DA MOTTA', 'codigo_pais': None, 'faixa_etaria': 'Entre 51 a 60 anos', 'cnpj_cpf_do_socio': '***834960**', 'qualificacao_socio': 'Diretor', 'codigo_faixa_etaria': 6, 'data_entrada_sociedade': '2020-01-16', 'identificador_de_socio': 2, 'cpf_representante_legal': '***000000**', 'nome_representante_legal': '', 'codigo_qualificacao_socio': 10, 'qualificacao_representante_legal': 'Não informada', 'codigo_qualificacao_representante_legal': 0}\n",
            "CLAUDIA FALCAO DA MOTTA\n",
            "{'pais': None, 'nome_socio': 'RAYMUNDO COSTA PINTO BARROS', 'codigo_pais': None, 'faixa_etaria': 'Entre 51 a 60 anos', 'cnpj_cpf_do_socio': '***486498**', 'qualificacao_socio': 'Diretor', 'codigo_faixa_etaria': 6, 'data_entrada_sociedade': '2021-03-15', 'identificador_de_socio': 2, 'cpf_representante_legal': '***000000**', 'nome_representante_legal': '', 'codigo_qualificacao_socio': 10, 'qualificacao_representante_legal': 'Não informada', 'codigo_qualificacao_representante_legal': 0}\n",
            "RAYMUNDO COSTA PINTO BARROS\n",
            "{'pais': None, 'nome_socio': 'AMAURI SERGIO SOARES', 'codigo_pais': None, 'faixa_etaria': 'Entre 51 a 60 anos', 'cnpj_cpf_do_socio': '***189808**', 'qualificacao_socio': 'Administrador', 'codigo_faixa_etaria': 6, 'data_entrada_sociedade': '2022-02-11', 'identificador_de_socio': 2, 'cpf_representante_legal': '***000000**', 'nome_representante_legal': '', 'codigo_qualificacao_socio': 5, 'qualificacao_representante_legal': 'Não informada', 'codigo_qualificacao_representante_legal': 0}\n",
            "AMAURI SERGIO SOARES\n"
          ]
        }
      ]
    },
    {
      "cell_type": "code",
      "source": [
        "len(dados_cnpj[\"qsa\"])"
      ],
      "metadata": {
        "colab": {
          "base_uri": "https://localhost:8080/"
        },
        "id": "gqIm1t_fvcb_",
        "outputId": "7bcd53e5-e29a-40ba-e7a3-7c0fbf43958b"
      },
      "execution_count": null,
      "outputs": [
        {
          "output_type": "execute_result",
          "data": {
            "text/plain": [
              "5"
            ]
          },
          "metadata": {},
          "execution_count": 26
        }
      ]
    },
    {
      "cell_type": "code",
      "source": [
        "print(nomes_socios)"
      ],
      "metadata": {
        "colab": {
          "base_uri": "https://localhost:8080/"
        },
        "id": "L_Jl95iut8hE",
        "outputId": "7773ca0e-3fd1-4cdd-90bf-57fab2a29c26"
      },
      "execution_count": null,
      "outputs": [
        {
          "output_type": "stream",
          "name": "stdout",
          "text": [
            "['PAULO DAUDT MARINHO', 'ERICK DE MIRANDA BRETAS', 'CLAUDIA FALCAO DA MOTTA', 'RAYMUNDO COSTA PINTO BARROS', 'AMAURI SERGIO SOARES']\n"
          ]
        }
      ]
    },
    {
      "cell_type": "code",
      "source": [
        "response.json()"
      ],
      "metadata": {
        "colab": {
          "base_uri": "https://localhost:8080/"
        },
        "id": "IyWEkHH5YQhw",
        "outputId": "5d5c2f4e-dca2-4ffb-e70b-897886569650"
      },
      "execution_count": null,
      "outputs": [
        {
          "output_type": "execute_result",
          "data": {
            "text/plain": [
              "{'uf': 'RJ',\n",
              " 'cep': '22460901',\n",
              " 'qsa': [{'pais': None,\n",
              "   'nome_socio': 'PAULO DAUDT MARINHO',\n",
              "   'codigo_pais': None,\n",
              "   'faixa_etaria': 'Entre 41 a 50 anos',\n",
              "   'cnpj_cpf_do_socio': '***048947**',\n",
              "   'qualificacao_socio': 'Diretor',\n",
              "   'codigo_faixa_etaria': 5,\n",
              "   'data_entrada_sociedade': '2020-01-16',\n",
              "   'identificador_de_socio': 2,\n",
              "   'cpf_representante_legal': '***000000**',\n",
              "   'nome_representante_legal': '',\n",
              "   'codigo_qualificacao_socio': 10,\n",
              "   'qualificacao_representante_legal': 'Não informada',\n",
              "   'codigo_qualificacao_representante_legal': 0},\n",
              "  {'pais': None,\n",
              "   'nome_socio': 'ERICK DE MIRANDA BRETAS',\n",
              "   'codigo_pais': None,\n",
              "   'faixa_etaria': 'Entre 41 a 50 anos',\n",
              "   'cnpj_cpf_do_socio': '***223047**',\n",
              "   'qualificacao_socio': 'Diretor',\n",
              "   'codigo_faixa_etaria': 5,\n",
              "   'data_entrada_sociedade': '2020-01-16',\n",
              "   'identificador_de_socio': 2,\n",
              "   'cpf_representante_legal': '***000000**',\n",
              "   'nome_representante_legal': '',\n",
              "   'codigo_qualificacao_socio': 10,\n",
              "   'qualificacao_representante_legal': 'Não informada',\n",
              "   'codigo_qualificacao_representante_legal': 0},\n",
              "  {'pais': None,\n",
              "   'nome_socio': 'CLAUDIA FALCAO DA MOTTA',\n",
              "   'codigo_pais': None,\n",
              "   'faixa_etaria': 'Entre 51 a 60 anos',\n",
              "   'cnpj_cpf_do_socio': '***834960**',\n",
              "   'qualificacao_socio': 'Diretor',\n",
              "   'codigo_faixa_etaria': 6,\n",
              "   'data_entrada_sociedade': '2020-01-16',\n",
              "   'identificador_de_socio': 2,\n",
              "   'cpf_representante_legal': '***000000**',\n",
              "   'nome_representante_legal': '',\n",
              "   'codigo_qualificacao_socio': 10,\n",
              "   'qualificacao_representante_legal': 'Não informada',\n",
              "   'codigo_qualificacao_representante_legal': 0},\n",
              "  {'pais': None,\n",
              "   'nome_socio': 'RAYMUNDO COSTA PINTO BARROS',\n",
              "   'codigo_pais': None,\n",
              "   'faixa_etaria': 'Entre 51 a 60 anos',\n",
              "   'cnpj_cpf_do_socio': '***486498**',\n",
              "   'qualificacao_socio': 'Diretor',\n",
              "   'codigo_faixa_etaria': 6,\n",
              "   'data_entrada_sociedade': '2021-03-15',\n",
              "   'identificador_de_socio': 2,\n",
              "   'cpf_representante_legal': '***000000**',\n",
              "   'nome_representante_legal': '',\n",
              "   'codigo_qualificacao_socio': 10,\n",
              "   'qualificacao_representante_legal': 'Não informada',\n",
              "   'codigo_qualificacao_representante_legal': 0},\n",
              "  {'pais': None,\n",
              "   'nome_socio': 'AMAURI SERGIO SOARES',\n",
              "   'codigo_pais': None,\n",
              "   'faixa_etaria': 'Entre 51 a 60 anos',\n",
              "   'cnpj_cpf_do_socio': '***189808**',\n",
              "   'qualificacao_socio': 'Administrador',\n",
              "   'codigo_faixa_etaria': 6,\n",
              "   'data_entrada_sociedade': '2022-02-11',\n",
              "   'identificador_de_socio': 2,\n",
              "   'cpf_representante_legal': '***000000**',\n",
              "   'nome_representante_legal': '',\n",
              "   'codigo_qualificacao_socio': 5,\n",
              "   'qualificacao_representante_legal': 'Não informada',\n",
              "   'codigo_qualificacao_representante_legal': 0}],\n",
              " 'cnpj': '27865757000102',\n",
              " 'pais': None,\n",
              " 'email': None,\n",
              " 'porte': 'DEMAIS',\n",
              " 'bairro': 'JARDIM BOTANICO',\n",
              " 'numero': '303',\n",
              " 'ddd_fax': '2125408773',\n",
              " 'municipio': 'RIO DE JANEIRO',\n",
              " 'logradouro': 'LOPES QUINTAS',\n",
              " 'cnae_fiscal': 6021700,\n",
              " 'codigo_pais': None,\n",
              " 'complemento': '',\n",
              " 'codigo_porte': 5,\n",
              " 'razao_social': 'GLOBO COMUNICACAO E PARTICIPACOES S/A',\n",
              " 'nome_fantasia': 'TV/REDE/CANAIS/G2C+GLOBO GLOBO.COM GLOBOPLAY',\n",
              " 'capital_social': 6983568400,\n",
              " 'ddd_telefone_1': '2121554551',\n",
              " 'ddd_telefone_2': '2121554552',\n",
              " 'opcao_pelo_mei': None,\n",
              " 'descricao_porte': '',\n",
              " 'codigo_municipio': 6001,\n",
              " 'cnaes_secundarios': [{'codigo': 5911102,\n",
              "   'descricao': 'Produção de filmes para publicidade'},\n",
              "  {'codigo': 5911199,\n",
              "   'descricao': 'Atividades de produção cinematográfica, de vídeos e de programas de televisão não especificadas anteriormente'},\n",
              "  {'codigo': 5912002,\n",
              "   'descricao': 'Serviços de mixagem sonora em produção audiovisual'},\n",
              "  {'codigo': 5913800,\n",
              "   'descricao': 'Distribuição cinematográfica, de vídeo e de programas de televisão'},\n",
              "  {'codigo': 5920100,\n",
              "   'descricao': 'Atividades de gravação de som e de edição de música'},\n",
              "  {'codigo': 6022501, 'descricao': 'Programadoras'},\n",
              "  {'codigo': 6204000, 'descricao': 'Consultoria em tecnologia da informação'},\n",
              "  {'codigo': 6209100,\n",
              "   'descricao': 'Suporte técnico, manutenção e outros serviços em tecnologia da informação'},\n",
              "  {'codigo': 6311900,\n",
              "   'descricao': 'Tratamento de dados, provedores de serviços de aplicação e serviços de hospedagem na internet'},\n",
              "  {'codigo': 6319400,\n",
              "   'descricao': 'Portais, provedores de conteúdo e outros serviços de informação na internet'},\n",
              "  {'codigo': 6463800,\n",
              "   'descricao': 'Outras sociedades de participação, exceto holdings'},\n",
              "  {'codigo': 7020400,\n",
              "   'descricao': 'Atividades de consultoria em gestão empresarial, exceto consultoria técnica específica'},\n",
              "  {'codigo': 7490104,\n",
              "   'descricao': 'Atividades de intermediação e agenciamento de serviços e negócios em geral, exceto imobiliários'},\n",
              "  {'codigo': 7739099,\n",
              "   'descricao': 'Aluguel de outras máquinas e equipamentos comerciais e industriais não especificados anteriormente, sem operador'},\n",
              "  {'codigo': 7740300,\n",
              "   'descricao': 'Gestão de ativos intangíveis não-financeiros'},\n",
              "  {'codigo': 9001902, 'descricao': 'Produção musical'},\n",
              "  {'codigo': 9319101,\n",
              "   'descricao': 'Produção e promoção de eventos esportivos'},\n",
              "  {'codigo': 9512600,\n",
              "   'descricao': 'Reparação e manutenção de equipamentos de comunicação'}],\n",
              " 'natureza_juridica': 'Sociedade Anônima Fechada',\n",
              " 'situacao_especial': '',\n",
              " 'opcao_pelo_simples': None,\n",
              " 'situacao_cadastral': 2,\n",
              " 'data_opcao_pelo_mei': None,\n",
              " 'data_exclusao_do_mei': None,\n",
              " 'cnae_fiscal_descricao': 'Atividades de televisão aberta',\n",
              " 'codigo_municipio_ibge': 3304557,\n",
              " 'data_inicio_atividade': '1986-01-31',\n",
              " 'data_situacao_especial': None,\n",
              " 'data_opcao_pelo_simples': None,\n",
              " 'data_situacao_cadastral': '2005-11-03',\n",
              " 'nome_cidade_no_exterior': '',\n",
              " 'codigo_natureza_juridica': 2054,\n",
              " 'data_exclusao_do_simples': None,\n",
              " 'motivo_situacao_cadastral': 0,\n",
              " 'ente_federativo_responsavel': '',\n",
              " 'identificador_matriz_filial': 1,\n",
              " 'qualificacao_do_responsavel': 10,\n",
              " 'descricao_situacao_cadastral': 'ATIVA',\n",
              " 'descricao_tipo_de_logradouro': 'RUA',\n",
              " 'descricao_motivo_situacao_cadastral': 'SEM MOTIVO',\n",
              " 'descricao_identificador_matriz_filial': 'MATRIZ'}"
            ]
          },
          "metadata": {},
          "execution_count": 17
        }
      ]
    },
    {
      "cell_type": "code",
      "source": [],
      "metadata": {
        "id": "SQLt31a2YUtA"
      },
      "execution_count": null,
      "outputs": []
    }
  ]
}