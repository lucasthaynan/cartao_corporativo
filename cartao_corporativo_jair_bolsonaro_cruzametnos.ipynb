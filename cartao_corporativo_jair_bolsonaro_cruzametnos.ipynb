{
  "cells": [
    {
      "cell_type": "code",
      "execution_count": 45,
      "metadata": {
        "id": "DbXHsxneR1DL"
      },
      "outputs": [],
      "source": [
        "import requests\n",
        "import pandas as pd\n",
        "from joblib import Parallel, delayed\n",
        "from tqdm import tqdm\n",
        "\n",
        "import basedosdados as bd\n",
        "import pandas as pd \n",
        "import plotly.express as px\n",
        "import numpy as np\n",
        "\n",
        "pd.set_option('display.max_columns', 500) # ampliar o limite de exibição das colunas para 500\n"
      ]
    },
    {
      "cell_type": "code",
      "execution_count": 2,
      "metadata": {
        "colab": {
          "base_uri": "https://localhost:8080/",
          "height": 493
        },
        "id": "-HBhlEb_R1uF",
        "outputId": "5dbd0f11-7c7f-4f95-e7d7-962cd77b2be9"
      },
      "outputs": [
        {
          "data": {
            "text/html": [
              "<div>\n",
              "<style scoped>\n",
              "    .dataframe tbody tr th:only-of-type {\n",
              "        vertical-align: middle;\n",
              "    }\n",
              "\n",
              "    .dataframe tbody tr th {\n",
              "        vertical-align: top;\n",
              "    }\n",
              "\n",
              "    .dataframe thead th {\n",
              "        text-align: right;\n",
              "    }\n",
              "</style>\n",
              "<table border=\"1\" class=\"dataframe\">\n",
              "  <thead>\n",
              "    <tr style=\"text-align: right;\">\n",
              "      <th></th>\n",
              "      <th>DATA PGTO</th>\n",
              "      <th>ANO</th>\n",
              "      <th>CPF SERVIDOR</th>\n",
              "      <th>CPF/CNPJ FORNECEDOR</th>\n",
              "      <th>NOME FORNECEDOR</th>\n",
              "      <th>VALOR</th>\n",
              "      <th>TIPO</th>\n",
              "      <th>SUBELEMENTO DE DESPESA</th>\n",
              "      <th>CDIC</th>\n",
              "    </tr>\n",
              "  </thead>\n",
              "  <tbody>\n",
              "    <tr>\n",
              "      <th>0</th>\n",
              "      <td>04/01/2019</td>\n",
              "      <td>2019</td>\n",
              "      <td>***.135.521-**</td>\n",
              "      <td>03696869000100</td>\n",
              "      <td>BIG TRANS COMERCIAL DE ALIMENTOS LTDA</td>\n",
              "      <td>R$ 303,78</td>\n",
              "      <td>C</td>\n",
              "      <td>GENEROS DE ALIMENTA€ÇO</td>\n",
              "      <td>00140.000911/2018-70.R.08.01/01/2019/31/12/2018.N</td>\n",
              "    </tr>\n",
              "    <tr>\n",
              "      <th>1</th>\n",
              "      <td>04/01/2019</td>\n",
              "      <td>2019</td>\n",
              "      <td>***.135.521-**</td>\n",
              "      <td>17871449001957</td>\n",
              "      <td>SHOPPING DOS COSMÉTICOS</td>\n",
              "      <td>R$ 63,70</td>\n",
              "      <td>C</td>\n",
              "      <td>MATERIAL DE LIMPEZA E PROD. DE HIGIENIZA€ÇO</td>\n",
              "      <td>00140.000911/2018-70.R.08.01/01/2019/31/12/2018.N</td>\n",
              "    </tr>\n",
              "    <tr>\n",
              "      <th>2</th>\n",
              "      <td>04/01/2019</td>\n",
              "      <td>2019</td>\n",
              "      <td>***.135.521-**</td>\n",
              "      <td>12137325000108</td>\n",
              "      <td>PEIXARIA GUARA LTDA</td>\n",
              "      <td>R$ 3.749,99</td>\n",
              "      <td>C</td>\n",
              "      <td>GENEROS DE ALIMENTA€ÇO</td>\n",
              "      <td>00140.000911/2018-70.R.08.01/01/2019/31/12/2018.N</td>\n",
              "    </tr>\n",
              "    <tr>\n",
              "      <th>3</th>\n",
              "      <td>04/01/2019</td>\n",
              "      <td>2019</td>\n",
              "      <td>***.135.521-**</td>\n",
              "      <td>03696869000100</td>\n",
              "      <td>BIG TRANS COMERCIAL DE ALIMENTOS LTDA</td>\n",
              "      <td>R$ 42,02</td>\n",
              "      <td>C</td>\n",
              "      <td>GENEROS DE ALIMENTA€ÇO</td>\n",
              "      <td>00140.000911/2018-70.R.08.01/01/2019/31/12/2018.N</td>\n",
              "    </tr>\n",
              "    <tr>\n",
              "      <th>4</th>\n",
              "      <td>04/01/2019</td>\n",
              "      <td>2019</td>\n",
              "      <td>***.135.521-**</td>\n",
              "      <td>01610583000135</td>\n",
              "      <td>DISTRIBUIDORA DE CARNE MORRO BRANCO LTDA - ME</td>\n",
              "      <td>R$ 614,88</td>\n",
              "      <td>C</td>\n",
              "      <td>GENEROS DE ALIMENTA€ÇO</td>\n",
              "      <td>00140.000911/2018-70.R.08.01/01/2019/31/12/2018.N</td>\n",
              "    </tr>\n",
              "  </tbody>\n",
              "</table>\n",
              "</div>"
            ],
            "text/plain": [
              "    DATA PGTO   ANO    CPF SERVIDOR CPF/CNPJ FORNECEDOR  \\\n",
              "0  04/01/2019  2019  ***.135.521-**      03696869000100   \n",
              "1  04/01/2019  2019  ***.135.521-**      17871449001957   \n",
              "2  04/01/2019  2019  ***.135.521-**      12137325000108   \n",
              "3  04/01/2019  2019  ***.135.521-**      03696869000100   \n",
              "4  04/01/2019  2019  ***.135.521-**      01610583000135   \n",
              "\n",
              "                                 NOME FORNECEDOR        VALOR TIPO  \\\n",
              "0          BIG TRANS COMERCIAL DE ALIMENTOS LTDA    R$ 303,78    C   \n",
              "1                        SHOPPING DOS COSMÉTICOS     R$ 63,70    C   \n",
              "2                            PEIXARIA GUARA LTDA  R$ 3.749,99    C   \n",
              "3          BIG TRANS COMERCIAL DE ALIMENTOS LTDA     R$ 42,02    C   \n",
              "4  DISTRIBUIDORA DE CARNE MORRO BRANCO LTDA - ME    R$ 614,88    C   \n",
              "\n",
              "                        SUBELEMENTO DE DESPESA  \\\n",
              "0                       GENEROS DE ALIMENTA€ÇO   \n",
              "1  MATERIAL DE LIMPEZA E PROD. DE HIGIENIZA€ÇO   \n",
              "2                       GENEROS DE ALIMENTA€ÇO   \n",
              "3                       GENEROS DE ALIMENTA€ÇO   \n",
              "4                       GENEROS DE ALIMENTA€ÇO   \n",
              "\n",
              "                                                CDIC  \n",
              "0  00140.000911/2018-70.R.08.01/01/2019/31/12/2018.N  \n",
              "1  00140.000911/2018-70.R.08.01/01/2019/31/12/2018.N  \n",
              "2  00140.000911/2018-70.R.08.01/01/2019/31/12/2018.N  \n",
              "3  00140.000911/2018-70.R.08.01/01/2019/31/12/2018.N  \n",
              "4  00140.000911/2018-70.R.08.01/01/2019/31/12/2018.N  "
            ]
          },
          "execution_count": 2,
          "metadata": {},
          "output_type": "execute_result"
        }
      ],
      "source": [
        "df_dados = pd.read_csv(\"https://docs.google.com/spreadsheets/d/e/2PACX-1vTQvGH2nk_Mycr6sW2Mt0NEE404AVxtdEWrwNridewLdu9zcP_t0RAOOxihcj4XLobhg0oxuuoLwggg/pub?gid=1811600516&single=true&output=csv\",\n",
        "                      dtype = 'str')\n",
        "\n",
        "df_dados.head()"
      ]
    },
    {
      "cell_type": "code",
      "execution_count": null,
      "metadata": {
        "colab": {
          "base_uri": "https://localhost:8080/"
        },
        "id": "ZHHRFNMhVvHA",
        "outputId": "d444fdf8-4203-4766-a151-973bc0e4c50e"
      },
      "outputs": [
        {
          "data": {
            "text/plain": [
              "count              13338\n",
              "unique              1858\n",
              "top       03696869000100\n",
              "freq                1495\n",
              "Name: CPF/CNPJ FORNECEDOR, dtype: object"
            ]
          },
          "execution_count": 5,
          "metadata": {},
          "output_type": "execute_result"
        }
      ],
      "source": [
        "df_dados[\"CPF/CNPJ FORNECEDOR\"].describe()"
      ]
    },
    {
      "cell_type": "code",
      "execution_count": null,
      "metadata": {
        "id": "tkJ1v1DEUuQX"
      },
      "outputs": [],
      "source": [
        "# df_dados[\"CPF/CNPJ FORNECEDOR\"] = df_dados[\"CPF/CNPJ FORNECEDOR\"].astype(str)"
      ]
    },
    {
      "cell_type": "code",
      "execution_count": null,
      "metadata": {
        "colab": {
          "base_uri": "https://localhost:8080/"
        },
        "id": "f2le7oqsR_nC",
        "outputId": "89f7b995-47d2-4883-f369-6af2ea0ce498"
      },
      "outputs": [
        {
          "name": "stdout",
          "output_type": "stream",
          "text": [
            "<class 'pandas.core.frame.DataFrame'>\n",
            "RangeIndex: 13339 entries, 0 to 13338\n",
            "Data columns (total 9 columns):\n",
            " #   Column                  Non-Null Count  Dtype \n",
            "---  ------                  --------------  ----- \n",
            " 0   DATA PGTO               13339 non-null  object\n",
            " 1   ANO                     13339 non-null  object\n",
            " 2   CPF SERVIDOR            13339 non-null  object\n",
            " 3   CPF/CNPJ FORNECEDOR     13338 non-null  object\n",
            " 4   NOME FORNECEDOR         13339 non-null  object\n",
            " 5   VALOR                   13339 non-null  object\n",
            " 6   TIPO                    13339 non-null  object\n",
            " 7   SUBELEMENTO DE DESPESA  13339 non-null  object\n",
            " 8   CDIC                    13339 non-null  object\n",
            "dtypes: object(9)\n",
            "memory usage: 938.0+ KB\n"
          ]
        }
      ],
      "source": [
        "df_dados.info()"
      ]
    },
    {
      "attachments": {},
      "cell_type": "markdown",
      "metadata": {},
      "source": [
        "### Coletando dados adicionais dos CNPJs fornecedores"
      ]
    },
    {
      "cell_type": "code",
      "execution_count": null,
      "metadata": {
        "colab": {
          "base_uri": "https://localhost:8080/"
        },
        "id": "4amP3sK6ZmXQ",
        "outputId": "a3d2d9f8-a5b9-4f6e-cd86-4e56212eed16"
      },
      "outputs": [
        {
          "name": "stderr",
          "output_type": "stream",
          "text": [
            "100%|██████████| 13339/13339 [19:59<00:00, 11.12it/s]\n"
          ]
        }
      ],
      "source": [
        "pais = []\n",
        "uf = []\n",
        "municipio = []\n",
        "bairro = []\n",
        "logradouro = []\n",
        "nome_fantasia = []\n",
        "socios = []\n",
        "\n",
        "for cnpj in tqdm(df_dados[\"CPF/CNPJ FORNECEDOR\"]):\n",
        "  \n",
        "  try:\n",
        "    response = requests.get(f\"https://brasilapi.com.br/api/cnpj/v1/{cnpj}\")\n",
        "    dados_cnpj = response.json()\n",
        "  except:\n",
        "    dados_cnpj = []\n",
        "  \n",
        "  try:\n",
        "    pais.append(dados_cnpj[\"pais\"])\n",
        "  except:\n",
        "    pais.append(\"NaN\")\n",
        "\n",
        "  try:\n",
        "    uf.append(dados_cnpj[\"uf\"])\n",
        "  except:\n",
        "    uf.append(\"NaN\")\n",
        "  \n",
        "  try:\n",
        "    municipio.append(dados_cnpj[\"municipio\"])\n",
        "  except:\n",
        "    municipio.append(\"NaN\")\n",
        "  \n",
        "  try:\n",
        "    bairro.append(dados_cnpj[\"bairro\"])\n",
        "  except:\n",
        "    bairro.append(\"NaN\")\n",
        "\n",
        "  try:\n",
        "    logradouro.append(dados_cnpj[\"logradouro\"])\n",
        "  except:\n",
        "    logradouro.append(\"NaN\")\n",
        "  \n",
        "  try:\n",
        "    nome_fantasia.append(dados_cnpj[\"nome_fantasia\"])\n",
        "  except:\n",
        "    nome_fantasia.append(\"NaN\")\n",
        "\n",
        "  try:\n",
        "    socios.append(dados_cnpj[\"qsa\"])\n",
        "  except:\n",
        "    socios.append(\"NaN\")\n",
        "\n",
        "  # print(f'{response}: {cnpj}')\n",
        "\n",
        "\n",
        "df_dados[\"pais\"] = pais\n",
        "df_dados[\"uf\"] = uf\n",
        "df_dados[\"municipio\"] = municipio\n",
        "df_dados[\"bairro\"] = bairro\n",
        "df_dados[\"logradouro\"] = logradouro\n",
        "df_dados[\"nome_fantasia\"] = nome_fantasia\n",
        "df_dados[\"socios\"] = socios\n",
        "\n"
      ]
    },
    {
      "cell_type": "code",
      "execution_count": null,
      "metadata": {
        "id": "mZYpxRP6wYmC"
      },
      "outputs": [],
      "source": [
        "df_dados.to_csv(\"cartao_coporativo_bolsonaro_com_dados_cnpj.csv\")\n"
      ]
    },
    {
      "cell_type": "markdown",
      "metadata": {
        "id": "Y7ed4J3bsaN0"
      },
      "source": [
        "### Coletando dados de sócios"
      ]
    },
    {
      "cell_type": "code",
      "execution_count": null,
      "metadata": {
        "id": "j0XLrqvbrmbW"
      },
      "outputs": [],
      "source": [
        "df_teste = df_dados.head(10)"
      ]
    },
    {
      "cell_type": "code",
      "execution_count": null,
      "metadata": {
        "id": "voU-rIkPsj0M"
      },
      "outputs": [],
      "source": [
        "df_teste"
      ]
    },
    {
      "cell_type": "code",
      "execution_count": 5,
      "metadata": {
        "colab": {
          "base_uri": "https://localhost:8080/"
        },
        "id": "cphnFahDsdc5",
        "outputId": "8485a826-3417-42dd-9ada-a95258e3b50d"
      },
      "outputs": [
        {
          "name": "stderr",
          "output_type": "stream",
          "text": [
            "  6%|▌         | 770/13339 [04:26<57:16,  3.66it/s]  "
          ]
        }
      ],
      "source": [
        "pais = []\n",
        "uf = []\n",
        "municipio = []\n",
        "bairro = []\n",
        "logradouro = []\n",
        "nome_fantasia = []\n",
        "nomes_socios_1 = []\n",
        "cpf_socios_1 = []\n",
        "faixa_etaria_socios_1 = []\n",
        "quant_socios_geral = []\n",
        "\n",
        "\n",
        "for cnpj in tqdm(df_dados[\"CPF/CNPJ FORNECEDOR\"]):\n",
        "  \n",
        "  try:\n",
        "    response = requests.get(f\"https://brasilapi.com.br/api/cnpj/v1/{cnpj}\")\n",
        "    dados_cnpj = response.json()\n",
        "  except:\n",
        "    dados_cnpj = []\n",
        "  \n",
        "  try:\n",
        "    pais.append(dados_cnpj[\"pais\"])\n",
        "  except:\n",
        "    pais.append(\"NaN\")\n",
        "\n",
        "  try:\n",
        "    uf.append(dados_cnpj[\"uf\"])\n",
        "  except:\n",
        "    uf.append(\"NaN\")\n",
        "  \n",
        "  try:\n",
        "    municipio.append(dados_cnpj[\"municipio\"])\n",
        "  except:\n",
        "    municipio.append(\"NaN\")\n",
        "  \n",
        "  try:\n",
        "    bairro.append(dados_cnpj[\"bairro\"])\n",
        "  except:\n",
        "    bairro.append(\"NaN\")\n",
        "\n",
        "  try:\n",
        "    logradouro.append(dados_cnpj[\"logradouro\"])\n",
        "  except:\n",
        "    logradouro.append(\"NaN\")\n",
        "  \n",
        "  try:\n",
        "    nome_fantasia.append(dados_cnpj[\"nome_fantasia\"])\n",
        "  except:\n",
        "    nome_fantasia.append(\"NaN\")\n",
        "\n",
        "  try:\n",
        "    nomes_socios = []\n",
        "    cpf_socios = []\n",
        "    faixa_etaria_socios = []\n",
        "\n",
        "    if len(dados_cnpj[\"qsa\"]) < 1:\n",
        "      quant_socios = 0\n",
        "    else: \n",
        "      quant_socios = len(dados_cnpj[\"qsa\"])\n",
        "\n",
        "    for item in dados_cnpj[\"qsa\"]:\n",
        "      nomes_socios.append(item[\"nome_socio\"])\n",
        "      cpf_socios.append(item[\"cnpj_cpf_do_socio\"])\n",
        "      faixa_etaria_socios.append(item[\"faixa_etaria\"])\n",
        "\n",
        "    nomes_socios_1.append(nomes_socios)\n",
        "    cpf_socios_1.append(cpf_socios)\n",
        "    faixa_etaria_socios_1.append(faixa_etaria_socios)\n",
        "    quant_socios_geral.append(quant_socios)\n",
        "      \n",
        "  except:\n",
        "    # socios.append(\"NaN\")\n",
        "    nomes_socios_1.append(\"NaN\")\n",
        "    cpf_socios_1.append(\"NaN\")\n",
        "    faixa_etaria_socios_1.append(\"NaN\")\n",
        "    quant_socios_geral.append(\"NaN\")\n",
        "\n",
        "  # print(f'{response}: {cnpj}')\n",
        "\n",
        "\n",
        "df_dados[\"pais\"] = pais\n",
        "df_dados[\"uf\"] = uf\n",
        "df_dados[\"municipio\"] = municipio\n",
        "df_dados[\"bairro\"] = bairro\n",
        "df_dados[\"logradouro\"] = logradouro\n",
        "df_dados[\"nome_fantasia\"] = nome_fantasia\n",
        "df_dados[\"quant_socios\"] = quant_socios_geral\n",
        "df_dados[\"nomes_socios\"] = nomes_socios_1\n",
        "df_dados[\"cpf_socios\"] = cpf_socios_1\n",
        "df_dados[\"faixa_etaria_socios\"] = faixa_etaria_socios_1\n",
        "\n",
        "\n"
      ]
    },
    {
      "cell_type": "code",
      "execution_count": null,
      "metadata": {
        "colab": {
          "base_uri": "https://localhost:8080/"
        },
        "id": "iohhT089w_lO",
        "outputId": "d85937f6-0eb8-4fbb-a6ae-7ba69ed1e5bc"
      },
      "outputs": [
        {
          "data": {
            "text/plain": [
              "count     13339\n",
              "unique       20\n",
              "top           2\n",
              "freq       5366\n",
              "Name: quant_socios, dtype: int64"
            ]
          },
          "execution_count": 45,
          "metadata": {},
          "output_type": "execute_result"
        }
      ],
      "source": [
        "df_dados[\"quant_socios\"].describe()"
      ]
    },
    {
      "cell_type": "code",
      "execution_count": null,
      "metadata": {
        "id": "9BSvhcVy7M9M"
      },
      "outputs": [],
      "source": [
        "df_dados.to_csv(\"cartao_coporativo_bolsonaro_com_socios.csv\")\n"
      ]
    },
    {
      "cell_type": "markdown",
      "metadata": {
        "id": "6-ucwsS_s2A-"
      },
      "source": [
        "### Testatando API de CNPJ"
      ]
    },
    {
      "cell_type": "code",
      "execution_count": null,
      "metadata": {
        "colab": {
          "base_uri": "https://localhost:8080/"
        },
        "id": "px3ictXYUHfb",
        "outputId": "5bc4b6a1-40b3-4f63-a29a-e27d47047844"
      },
      "outputs": [
        {
          "name": "stdout",
          "output_type": "stream",
          "text": [
            "<Response [200]>\n"
          ]
        }
      ],
      "source": [
        "cnpj = \"27865757000102\"\n",
        "response = requests.get(f\"https://brasilapi.com.br/api/cnpj/v1/{cnpj}\")\n",
        "print(response)"
      ]
    },
    {
      "cell_type": "code",
      "execution_count": null,
      "metadata": {
        "colab": {
          "base_uri": "https://localhost:8080/",
          "height": 35
        },
        "id": "rI4ILrAbY5QE",
        "outputId": "7128c0a5-f686-42f1-f41d-b752d4a6f483"
      },
      "outputs": [
        {
          "data": {
            "application/vnd.google.colaboratory.intrinsic+json": {
              "type": "string"
            },
            "text/plain": [
              "'27865757000102'"
            ]
          },
          "execution_count": 16,
          "metadata": {},
          "output_type": "execute_result"
        }
      ],
      "source": [
        "dados_cnpj = response.json()\n",
        "dados_cnpj[\"cnpj\"]"
      ]
    },
    {
      "cell_type": "code",
      "execution_count": null,
      "metadata": {
        "colab": {
          "base_uri": "https://localhost:8080/"
        },
        "id": "A81Y7GBEs-No",
        "outputId": "bd8cf691-df72-4933-d590-c73acc8f676b"
      },
      "outputs": [
        {
          "name": "stdout",
          "output_type": "stream",
          "text": [
            "{'pais': None, 'nome_socio': 'PAULO DAUDT MARINHO', 'codigo_pais': None, 'faixa_etaria': 'Entre 41 a 50 anos', 'cnpj_cpf_do_socio': '***048947**', 'qualificacao_socio': 'Diretor', 'codigo_faixa_etaria': 5, 'data_entrada_sociedade': '2020-01-16', 'identificador_de_socio': 2, 'cpf_representante_legal': '***000000**', 'nome_representante_legal': '', 'codigo_qualificacao_socio': 10, 'qualificacao_representante_legal': 'Não informada', 'codigo_qualificacao_representante_legal': 0}\n",
            "PAULO DAUDT MARINHO\n",
            "{'pais': None, 'nome_socio': 'ERICK DE MIRANDA BRETAS', 'codigo_pais': None, 'faixa_etaria': 'Entre 41 a 50 anos', 'cnpj_cpf_do_socio': '***223047**', 'qualificacao_socio': 'Diretor', 'codigo_faixa_etaria': 5, 'data_entrada_sociedade': '2020-01-16', 'identificador_de_socio': 2, 'cpf_representante_legal': '***000000**', 'nome_representante_legal': '', 'codigo_qualificacao_socio': 10, 'qualificacao_representante_legal': 'Não informada', 'codigo_qualificacao_representante_legal': 0}\n",
            "ERICK DE MIRANDA BRETAS\n",
            "{'pais': None, 'nome_socio': 'CLAUDIA FALCAO DA MOTTA', 'codigo_pais': None, 'faixa_etaria': 'Entre 51 a 60 anos', 'cnpj_cpf_do_socio': '***834960**', 'qualificacao_socio': 'Diretor', 'codigo_faixa_etaria': 6, 'data_entrada_sociedade': '2020-01-16', 'identificador_de_socio': 2, 'cpf_representante_legal': '***000000**', 'nome_representante_legal': '', 'codigo_qualificacao_socio': 10, 'qualificacao_representante_legal': 'Não informada', 'codigo_qualificacao_representante_legal': 0}\n",
            "CLAUDIA FALCAO DA MOTTA\n",
            "{'pais': None, 'nome_socio': 'RAYMUNDO COSTA PINTO BARROS', 'codigo_pais': None, 'faixa_etaria': 'Entre 51 a 60 anos', 'cnpj_cpf_do_socio': '***486498**', 'qualificacao_socio': 'Diretor', 'codigo_faixa_etaria': 6, 'data_entrada_sociedade': '2021-03-15', 'identificador_de_socio': 2, 'cpf_representante_legal': '***000000**', 'nome_representante_legal': '', 'codigo_qualificacao_socio': 10, 'qualificacao_representante_legal': 'Não informada', 'codigo_qualificacao_representante_legal': 0}\n",
            "RAYMUNDO COSTA PINTO BARROS\n",
            "{'pais': None, 'nome_socio': 'AMAURI SERGIO SOARES', 'codigo_pais': None, 'faixa_etaria': 'Entre 51 a 60 anos', 'cnpj_cpf_do_socio': '***189808**', 'qualificacao_socio': 'Administrador', 'codigo_faixa_etaria': 6, 'data_entrada_sociedade': '2022-02-11', 'identificador_de_socio': 2, 'cpf_representante_legal': '***000000**', 'nome_representante_legal': '', 'codigo_qualificacao_socio': 5, 'qualificacao_representante_legal': 'Não informada', 'codigo_qualificacao_representante_legal': 0}\n",
            "AMAURI SERGIO SOARES\n"
          ]
        }
      ],
      "source": [
        "\n",
        "nomes_socios = []\n",
        "cpf_socios = []\n",
        "faixa_etaria_socios = []\n",
        "\n",
        "for item in dados_cnpj[\"qsa\"]:\n",
        "  print(item)\n",
        "  print(item[\"nome_socio\"])\n",
        "  nomes_socios.append(item[\"nome_socio\"])\n",
        "  cpf_socios.append(item[\"cnpj_cpf_do_socio\"])\n",
        "  faixa_etaria_socios.append(item[\"faixa_etaria\"])\n",
        "  \n",
        "  "
      ]
    },
    {
      "cell_type": "code",
      "execution_count": null,
      "metadata": {
        "colab": {
          "base_uri": "https://localhost:8080/"
        },
        "id": "gqIm1t_fvcb_",
        "outputId": "7bcd53e5-e29a-40ba-e7a3-7c0fbf43958b"
      },
      "outputs": [
        {
          "data": {
            "text/plain": [
              "5"
            ]
          },
          "execution_count": 26,
          "metadata": {},
          "output_type": "execute_result"
        }
      ],
      "source": [
        "len(dados_cnpj[\"qsa\"])"
      ]
    },
    {
      "cell_type": "code",
      "execution_count": null,
      "metadata": {
        "colab": {
          "base_uri": "https://localhost:8080/"
        },
        "id": "L_Jl95iut8hE",
        "outputId": "7773ca0e-3fd1-4cdd-90bf-57fab2a29c26"
      },
      "outputs": [
        {
          "name": "stdout",
          "output_type": "stream",
          "text": [
            "['PAULO DAUDT MARINHO', 'ERICK DE MIRANDA BRETAS', 'CLAUDIA FALCAO DA MOTTA', 'RAYMUNDO COSTA PINTO BARROS', 'AMAURI SERGIO SOARES']\n"
          ]
        }
      ],
      "source": [
        "print(nomes_socios)"
      ]
    },
    {
      "cell_type": "code",
      "execution_count": null,
      "metadata": {
        "colab": {
          "base_uri": "https://localhost:8080/"
        },
        "id": "IyWEkHH5YQhw",
        "outputId": "5d5c2f4e-dca2-4ffb-e70b-897886569650"
      },
      "outputs": [
        {
          "data": {
            "text/plain": [
              "{'uf': 'RJ',\n",
              " 'cep': '22460901',\n",
              " 'qsa': [{'pais': None,\n",
              "   'nome_socio': 'PAULO DAUDT MARINHO',\n",
              "   'codigo_pais': None,\n",
              "   'faixa_etaria': 'Entre 41 a 50 anos',\n",
              "   'cnpj_cpf_do_socio': '***048947**',\n",
              "   'qualificacao_socio': 'Diretor',\n",
              "   'codigo_faixa_etaria': 5,\n",
              "   'data_entrada_sociedade': '2020-01-16',\n",
              "   'identificador_de_socio': 2,\n",
              "   'cpf_representante_legal': '***000000**',\n",
              "   'nome_representante_legal': '',\n",
              "   'codigo_qualificacao_socio': 10,\n",
              "   'qualificacao_representante_legal': 'Não informada',\n",
              "   'codigo_qualificacao_representante_legal': 0},\n",
              "  {'pais': None,\n",
              "   'nome_socio': 'ERICK DE MIRANDA BRETAS',\n",
              "   'codigo_pais': None,\n",
              "   'faixa_etaria': 'Entre 41 a 50 anos',\n",
              "   'cnpj_cpf_do_socio': '***223047**',\n",
              "   'qualificacao_socio': 'Diretor',\n",
              "   'codigo_faixa_etaria': 5,\n",
              "   'data_entrada_sociedade': '2020-01-16',\n",
              "   'identificador_de_socio': 2,\n",
              "   'cpf_representante_legal': '***000000**',\n",
              "   'nome_representante_legal': '',\n",
              "   'codigo_qualificacao_socio': 10,\n",
              "   'qualificacao_representante_legal': 'Não informada',\n",
              "   'codigo_qualificacao_representante_legal': 0},\n",
              "  {'pais': None,\n",
              "   'nome_socio': 'CLAUDIA FALCAO DA MOTTA',\n",
              "   'codigo_pais': None,\n",
              "   'faixa_etaria': 'Entre 51 a 60 anos',\n",
              "   'cnpj_cpf_do_socio': '***834960**',\n",
              "   'qualificacao_socio': 'Diretor',\n",
              "   'codigo_faixa_etaria': 6,\n",
              "   'data_entrada_sociedade': '2020-01-16',\n",
              "   'identificador_de_socio': 2,\n",
              "   'cpf_representante_legal': '***000000**',\n",
              "   'nome_representante_legal': '',\n",
              "   'codigo_qualificacao_socio': 10,\n",
              "   'qualificacao_representante_legal': 'Não informada',\n",
              "   'codigo_qualificacao_representante_legal': 0},\n",
              "  {'pais': None,\n",
              "   'nome_socio': 'RAYMUNDO COSTA PINTO BARROS',\n",
              "   'codigo_pais': None,\n",
              "   'faixa_etaria': 'Entre 51 a 60 anos',\n",
              "   'cnpj_cpf_do_socio': '***486498**',\n",
              "   'qualificacao_socio': 'Diretor',\n",
              "   'codigo_faixa_etaria': 6,\n",
              "   'data_entrada_sociedade': '2021-03-15',\n",
              "   'identificador_de_socio': 2,\n",
              "   'cpf_representante_legal': '***000000**',\n",
              "   'nome_representante_legal': '',\n",
              "   'codigo_qualificacao_socio': 10,\n",
              "   'qualificacao_representante_legal': 'Não informada',\n",
              "   'codigo_qualificacao_representante_legal': 0},\n",
              "  {'pais': None,\n",
              "   'nome_socio': 'AMAURI SERGIO SOARES',\n",
              "   'codigo_pais': None,\n",
              "   'faixa_etaria': 'Entre 51 a 60 anos',\n",
              "   'cnpj_cpf_do_socio': '***189808**',\n",
              "   'qualificacao_socio': 'Administrador',\n",
              "   'codigo_faixa_etaria': 6,\n",
              "   'data_entrada_sociedade': '2022-02-11',\n",
              "   'identificador_de_socio': 2,\n",
              "   'cpf_representante_legal': '***000000**',\n",
              "   'nome_representante_legal': '',\n",
              "   'codigo_qualificacao_socio': 5,\n",
              "   'qualificacao_representante_legal': 'Não informada',\n",
              "   'codigo_qualificacao_representante_legal': 0}],\n",
              " 'cnpj': '27865757000102',\n",
              " 'pais': None,\n",
              " 'email': None,\n",
              " 'porte': 'DEMAIS',\n",
              " 'bairro': 'JARDIM BOTANICO',\n",
              " 'numero': '303',\n",
              " 'ddd_fax': '2125408773',\n",
              " 'municipio': 'RIO DE JANEIRO',\n",
              " 'logradouro': 'LOPES QUINTAS',\n",
              " 'cnae_fiscal': 6021700,\n",
              " 'codigo_pais': None,\n",
              " 'complemento': '',\n",
              " 'codigo_porte': 5,\n",
              " 'razao_social': 'GLOBO COMUNICACAO E PARTICIPACOES S/A',\n",
              " 'nome_fantasia': 'TV/REDE/CANAIS/G2C+GLOBO GLOBO.COM GLOBOPLAY',\n",
              " 'capital_social': 6983568400,\n",
              " 'ddd_telefone_1': '2121554551',\n",
              " 'ddd_telefone_2': '2121554552',\n",
              " 'opcao_pelo_mei': None,\n",
              " 'descricao_porte': '',\n",
              " 'codigo_municipio': 6001,\n",
              " 'cnaes_secundarios': [{'codigo': 5911102,\n",
              "   'descricao': 'Produção de filmes para publicidade'},\n",
              "  {'codigo': 5911199,\n",
              "   'descricao': 'Atividades de produção cinematográfica, de vídeos e de programas de televisão não especificadas anteriormente'},\n",
              "  {'codigo': 5912002,\n",
              "   'descricao': 'Serviços de mixagem sonora em produção audiovisual'},\n",
              "  {'codigo': 5913800,\n",
              "   'descricao': 'Distribuição cinematográfica, de vídeo e de programas de televisão'},\n",
              "  {'codigo': 5920100,\n",
              "   'descricao': 'Atividades de gravação de som e de edição de música'},\n",
              "  {'codigo': 6022501, 'descricao': 'Programadoras'},\n",
              "  {'codigo': 6204000, 'descricao': 'Consultoria em tecnologia da informação'},\n",
              "  {'codigo': 6209100,\n",
              "   'descricao': 'Suporte técnico, manutenção e outros serviços em tecnologia da informação'},\n",
              "  {'codigo': 6311900,\n",
              "   'descricao': 'Tratamento de dados, provedores de serviços de aplicação e serviços de hospedagem na internet'},\n",
              "  {'codigo': 6319400,\n",
              "   'descricao': 'Portais, provedores de conteúdo e outros serviços de informação na internet'},\n",
              "  {'codigo': 6463800,\n",
              "   'descricao': 'Outras sociedades de participação, exceto holdings'},\n",
              "  {'codigo': 7020400,\n",
              "   'descricao': 'Atividades de consultoria em gestão empresarial, exceto consultoria técnica específica'},\n",
              "  {'codigo': 7490104,\n",
              "   'descricao': 'Atividades de intermediação e agenciamento de serviços e negócios em geral, exceto imobiliários'},\n",
              "  {'codigo': 7739099,\n",
              "   'descricao': 'Aluguel de outras máquinas e equipamentos comerciais e industriais não especificados anteriormente, sem operador'},\n",
              "  {'codigo': 7740300,\n",
              "   'descricao': 'Gestão de ativos intangíveis não-financeiros'},\n",
              "  {'codigo': 9001902, 'descricao': 'Produção musical'},\n",
              "  {'codigo': 9319101,\n",
              "   'descricao': 'Produção e promoção de eventos esportivos'},\n",
              "  {'codigo': 9512600,\n",
              "   'descricao': 'Reparação e manutenção de equipamentos de comunicação'}],\n",
              " 'natureza_juridica': 'Sociedade Anônima Fechada',\n",
              " 'situacao_especial': '',\n",
              " 'opcao_pelo_simples': None,\n",
              " 'situacao_cadastral': 2,\n",
              " 'data_opcao_pelo_mei': None,\n",
              " 'data_exclusao_do_mei': None,\n",
              " 'cnae_fiscal_descricao': 'Atividades de televisão aberta',\n",
              " 'codigo_municipio_ibge': 3304557,\n",
              " 'data_inicio_atividade': '1986-01-31',\n",
              " 'data_situacao_especial': None,\n",
              " 'data_opcao_pelo_simples': None,\n",
              " 'data_situacao_cadastral': '2005-11-03',\n",
              " 'nome_cidade_no_exterior': '',\n",
              " 'codigo_natureza_juridica': 2054,\n",
              " 'data_exclusao_do_simples': None,\n",
              " 'motivo_situacao_cadastral': 0,\n",
              " 'ente_federativo_responsavel': '',\n",
              " 'identificador_matriz_filial': 1,\n",
              " 'qualificacao_do_responsavel': 10,\n",
              " 'descricao_situacao_cadastral': 'ATIVA',\n",
              " 'descricao_tipo_de_logradouro': 'RUA',\n",
              " 'descricao_motivo_situacao_cadastral': 'SEM MOTIVO',\n",
              " 'descricao_identificador_matriz_filial': 'MATRIZ'}"
            ]
          },
          "execution_count": 17,
          "metadata": {},
          "output_type": "execute_result"
        }
      ],
      "source": [
        "response.json()"
      ]
    },
    {
      "cell_type": "code",
      "execution_count": null,
      "metadata": {
        "id": "SQLt31a2YUtA"
      },
      "outputs": [],
      "source": []
    },
    {
      "attachments": {},
      "cell_type": "markdown",
      "metadata": {},
      "source": [
        "### Cruzando sócios das empresas fornecedoras com os doadores de campanha"
      ]
    },
    {
      "cell_type": "code",
      "execution_count": 3,
      "metadata": {},
      "outputs": [
        {
          "data": {
            "text/html": [
              "<div>\n",
              "<style scoped>\n",
              "    .dataframe tbody tr th:only-of-type {\n",
              "        vertical-align: middle;\n",
              "    }\n",
              "\n",
              "    .dataframe tbody tr th {\n",
              "        vertical-align: top;\n",
              "    }\n",
              "\n",
              "    .dataframe thead th {\n",
              "        text-align: right;\n",
              "    }\n",
              "</style>\n",
              "<table border=\"1\" class=\"dataframe\">\n",
              "  <thead>\n",
              "    <tr style=\"text-align: right;\">\n",
              "      <th></th>\n",
              "      <th>Unnamed: 0</th>\n",
              "      <th>DATA PGTO</th>\n",
              "      <th>ANO</th>\n",
              "      <th>CPF SERVIDOR</th>\n",
              "      <th>CPF/CNPJ FORNECEDOR</th>\n",
              "      <th>NOME FORNECEDOR</th>\n",
              "      <th>VALOR</th>\n",
              "      <th>TIPO</th>\n",
              "      <th>SUBELEMENTO DE DESPESA</th>\n",
              "      <th>CDIC</th>\n",
              "      <th>pais</th>\n",
              "      <th>uf</th>\n",
              "      <th>municipio</th>\n",
              "      <th>bairro</th>\n",
              "      <th>logradouro</th>\n",
              "      <th>nome_fantasia</th>\n",
              "      <th>quant_socios</th>\n",
              "      <th>nomes_socios</th>\n",
              "      <th>cpf_socios</th>\n",
              "      <th>faixa_etaria_socios</th>\n",
              "    </tr>\n",
              "  </thead>\n",
              "  <tbody>\n",
              "    <tr>\n",
              "      <th>0</th>\n",
              "      <td>0</td>\n",
              "      <td>04/01/2019</td>\n",
              "      <td>2019</td>\n",
              "      <td>***.135.521-**</td>\n",
              "      <td>3.696869e+12</td>\n",
              "      <td>BIG TRANS COMERCIAL DE ALIMENTOS LTDA</td>\n",
              "      <td>R$ 303,78</td>\n",
              "      <td>C</td>\n",
              "      <td>GENEROS DE ALIMENTA€ÇO</td>\n",
              "      <td>00140.000911/2018-70.R.08.01/01/2019/31/12/2018.N</td>\n",
              "      <td>NaN</td>\n",
              "      <td>DF</td>\n",
              "      <td>BRASILIA</td>\n",
              "      <td>ASA NORTE</td>\n",
              "      <td>SHCN EQ 402/403</td>\n",
              "      <td>BIG BOX SUPERMERCADOS</td>\n",
              "      <td>2.0</td>\n",
              "      <td>['JORGE HELOU FILHO', 'MARIO HABKA']</td>\n",
              "      <td>['***414011**', '***983451**']</td>\n",
              "      <td>['Entre 61 a 70 anos', 'Entre 61 a 70 anos']</td>\n",
              "    </tr>\n",
              "    <tr>\n",
              "      <th>1</th>\n",
              "      <td>1</td>\n",
              "      <td>04/01/2019</td>\n",
              "      <td>2019</td>\n",
              "      <td>***.135.521-**</td>\n",
              "      <td>1.787145e+13</td>\n",
              "      <td>SHOPPING DOS COSMÉTICOS</td>\n",
              "      <td>R$ 63,70</td>\n",
              "      <td>C</td>\n",
              "      <td>MATERIAL DE LIMPEZA E PROD. DE HIGIENIZA€ÇO</td>\n",
              "      <td>00140.000911/2018-70.R.08.01/01/2019/31/12/2018.N</td>\n",
              "      <td>NaN</td>\n",
              "      <td>DF</td>\n",
              "      <td>BRASILIA</td>\n",
              "      <td>ASA NORTE</td>\n",
              "      <td>SDN (SETOR DE DIVERSOES NORTE)</td>\n",
              "      <td>SHOPPING DOS COSMETICOS</td>\n",
              "      <td>2.0</td>\n",
              "      <td>['ROBSON MACHADO SILVA', 'THAIS MACHADO DOS SA...</td>\n",
              "      <td>['***421871**', '***087231**']</td>\n",
              "      <td>['Entre 51 a 60 anos', 'Entre 21 a 30 anos']</td>\n",
              "    </tr>\n",
              "    <tr>\n",
              "      <th>2</th>\n",
              "      <td>2</td>\n",
              "      <td>04/01/2019</td>\n",
              "      <td>2019</td>\n",
              "      <td>***.135.521-**</td>\n",
              "      <td>1.213733e+13</td>\n",
              "      <td>PEIXARIA GUARA LTDA</td>\n",
              "      <td>R$ 3.749,99</td>\n",
              "      <td>C</td>\n",
              "      <td>GENEROS DE ALIMENTA€ÇO</td>\n",
              "      <td>00140.000911/2018-70.R.08.01/01/2019/31/12/2018.N</td>\n",
              "      <td>NaN</td>\n",
              "      <td>DF</td>\n",
              "      <td>BRASILIA</td>\n",
              "      <td>ASA SUL</td>\n",
              "      <td>SHCS CL 408</td>\n",
              "      <td>VEDA PESCADOS</td>\n",
              "      <td>1.0</td>\n",
              "      <td>['AYLA MARTA DA SILVA FERNANDES']</td>\n",
              "      <td>['***010223**']</td>\n",
              "      <td>['Entre 21 a 30 anos']</td>\n",
              "    </tr>\n",
              "    <tr>\n",
              "      <th>3</th>\n",
              "      <td>3</td>\n",
              "      <td>04/01/2019</td>\n",
              "      <td>2019</td>\n",
              "      <td>***.135.521-**</td>\n",
              "      <td>3.696869e+12</td>\n",
              "      <td>BIG TRANS COMERCIAL DE ALIMENTOS LTDA</td>\n",
              "      <td>R$ 42,02</td>\n",
              "      <td>C</td>\n",
              "      <td>GENEROS DE ALIMENTA€ÇO</td>\n",
              "      <td>00140.000911/2018-70.R.08.01/01/2019/31/12/2018.N</td>\n",
              "      <td>NaN</td>\n",
              "      <td>DF</td>\n",
              "      <td>BRASILIA</td>\n",
              "      <td>ASA NORTE</td>\n",
              "      <td>SHCN EQ 402/403</td>\n",
              "      <td>BIG BOX SUPERMERCADOS</td>\n",
              "      <td>2.0</td>\n",
              "      <td>['JORGE HELOU FILHO', 'MARIO HABKA']</td>\n",
              "      <td>['***414011**', '***983451**']</td>\n",
              "      <td>['Entre 61 a 70 anos', 'Entre 61 a 70 anos']</td>\n",
              "    </tr>\n",
              "    <tr>\n",
              "      <th>4</th>\n",
              "      <td>4</td>\n",
              "      <td>04/01/2019</td>\n",
              "      <td>2019</td>\n",
              "      <td>***.135.521-**</td>\n",
              "      <td>1.610583e+12</td>\n",
              "      <td>DISTRIBUIDORA DE CARNE MORRO BRANCO LTDA - ME</td>\n",
              "      <td>R$ 614,88</td>\n",
              "      <td>C</td>\n",
              "      <td>GENEROS DE ALIMENTA€ÇO</td>\n",
              "      <td>00140.000911/2018-70.R.08.01/01/2019/31/12/2018.N</td>\n",
              "      <td>NaN</td>\n",
              "      <td>DF</td>\n",
              "      <td>BRASILIA</td>\n",
              "      <td>ASA NORTE</td>\n",
              "      <td>LOC SCLN QD 404 BLOCO E</td>\n",
              "      <td>DISTRIBUIDORA DE CARNE MORRO BRANCO</td>\n",
              "      <td>2.0</td>\n",
              "      <td>['RONALDO CAETANO DE BRITO', 'CARLOS EDUARDO A...</td>\n",
              "      <td>['***621301**', '***044181**']</td>\n",
              "      <td>['Entre 61 a 70 anos', 'Entre 31 a 40 anos']</td>\n",
              "    </tr>\n",
              "  </tbody>\n",
              "</table>\n",
              "</div>"
            ],
            "text/plain": [
              "   Unnamed: 0   DATA PGTO   ANO    CPF SERVIDOR  CPF/CNPJ FORNECEDOR  \\\n",
              "0           0  04/01/2019  2019  ***.135.521-**         3.696869e+12   \n",
              "1           1  04/01/2019  2019  ***.135.521-**         1.787145e+13   \n",
              "2           2  04/01/2019  2019  ***.135.521-**         1.213733e+13   \n",
              "3           3  04/01/2019  2019  ***.135.521-**         3.696869e+12   \n",
              "4           4  04/01/2019  2019  ***.135.521-**         1.610583e+12   \n",
              "\n",
              "                                 NOME FORNECEDOR        VALOR TIPO  \\\n",
              "0          BIG TRANS COMERCIAL DE ALIMENTOS LTDA    R$ 303,78    C   \n",
              "1                        SHOPPING DOS COSMÉTICOS     R$ 63,70    C   \n",
              "2                            PEIXARIA GUARA LTDA  R$ 3.749,99    C   \n",
              "3          BIG TRANS COMERCIAL DE ALIMENTOS LTDA     R$ 42,02    C   \n",
              "4  DISTRIBUIDORA DE CARNE MORRO BRANCO LTDA - ME    R$ 614,88    C   \n",
              "\n",
              "                        SUBELEMENTO DE DESPESA  \\\n",
              "0                       GENEROS DE ALIMENTA€ÇO   \n",
              "1  MATERIAL DE LIMPEZA E PROD. DE HIGIENIZA€ÇO   \n",
              "2                       GENEROS DE ALIMENTA€ÇO   \n",
              "3                       GENEROS DE ALIMENTA€ÇO   \n",
              "4                       GENEROS DE ALIMENTA€ÇO   \n",
              "\n",
              "                                                CDIC  pais  uf municipio  \\\n",
              "0  00140.000911/2018-70.R.08.01/01/2019/31/12/2018.N   NaN  DF  BRASILIA   \n",
              "1  00140.000911/2018-70.R.08.01/01/2019/31/12/2018.N   NaN  DF  BRASILIA   \n",
              "2  00140.000911/2018-70.R.08.01/01/2019/31/12/2018.N   NaN  DF  BRASILIA   \n",
              "3  00140.000911/2018-70.R.08.01/01/2019/31/12/2018.N   NaN  DF  BRASILIA   \n",
              "4  00140.000911/2018-70.R.08.01/01/2019/31/12/2018.N   NaN  DF  BRASILIA   \n",
              "\n",
              "      bairro                      logradouro  \\\n",
              "0  ASA NORTE                 SHCN EQ 402/403   \n",
              "1  ASA NORTE  SDN (SETOR DE DIVERSOES NORTE)   \n",
              "2    ASA SUL                     SHCS CL 408   \n",
              "3  ASA NORTE                 SHCN EQ 402/403   \n",
              "4  ASA NORTE         LOC SCLN QD 404 BLOCO E   \n",
              "\n",
              "                         nome_fantasia  quant_socios  \\\n",
              "0                BIG BOX SUPERMERCADOS           2.0   \n",
              "1              SHOPPING DOS COSMETICOS           2.0   \n",
              "2                        VEDA PESCADOS           1.0   \n",
              "3                BIG BOX SUPERMERCADOS           2.0   \n",
              "4  DISTRIBUIDORA DE CARNE MORRO BRANCO           2.0   \n",
              "\n",
              "                                        nomes_socios  \\\n",
              "0               ['JORGE HELOU FILHO', 'MARIO HABKA']   \n",
              "1  ['ROBSON MACHADO SILVA', 'THAIS MACHADO DOS SA...   \n",
              "2                  ['AYLA MARTA DA SILVA FERNANDES']   \n",
              "3               ['JORGE HELOU FILHO', 'MARIO HABKA']   \n",
              "4  ['RONALDO CAETANO DE BRITO', 'CARLOS EDUARDO A...   \n",
              "\n",
              "                       cpf_socios  \\\n",
              "0  ['***414011**', '***983451**']   \n",
              "1  ['***421871**', '***087231**']   \n",
              "2                 ['***010223**']   \n",
              "3  ['***414011**', '***983451**']   \n",
              "4  ['***621301**', '***044181**']   \n",
              "\n",
              "                            faixa_etaria_socios  \n",
              "0  ['Entre 61 a 70 anos', 'Entre 61 a 70 anos']  \n",
              "1  ['Entre 51 a 60 anos', 'Entre 21 a 30 anos']  \n",
              "2                        ['Entre 21 a 30 anos']  \n",
              "3  ['Entre 61 a 70 anos', 'Entre 61 a 70 anos']  \n",
              "4  ['Entre 61 a 70 anos', 'Entre 31 a 40 anos']  "
            ]
          },
          "execution_count": 3,
          "metadata": {},
          "output_type": "execute_result"
        }
      ],
      "source": [
        "df_socios_prestadores = pd.read_csv(\"cartao_coporativo_bolsonaro_com_socios.csv\")\n",
        "df_socios_prestadores.head()"
      ]
    },
    {
      "cell_type": "code",
      "execution_count": 11,
      "metadata": {},
      "outputs": [
        {
          "name": "stderr",
          "output_type": "stream",
          "text": [
            "Downloading: 100%|██████████| 392164/392164 [01:06<00:00, 5927.12rows/s]\n"
          ]
        }
      ],
      "source": [
        "consulta_sql = \"\"\"\n",
        "SELECT nome_candidato, especie_receita, data_receita, valor_receita, sigla_uf_doador, nome_doador_rf, numero_documento_doacao, cpf_cnpj_doador\n",
        "\n",
        "FROM `basedosdados.br_tse_eleicoes.receitas_candidato` \n",
        "\n",
        "WHERE nome_candidato = \"JAIR MESSIAS BOLSONARO\" AND ano = 2022\n",
        "\n",
        "\"\"\"\n",
        "\n",
        "df_consulta = bd.read_sql(consulta_sql, billing_project_id=\"dadostatu\")\n"
      ]
    },
    {
      "cell_type": "code",
      "execution_count": 13,
      "metadata": {},
      "outputs": [
        {
          "data": {
            "text/html": [
              "<div>\n",
              "<style scoped>\n",
              "    .dataframe tbody tr th:only-of-type {\n",
              "        vertical-align: middle;\n",
              "    }\n",
              "\n",
              "    .dataframe tbody tr th {\n",
              "        vertical-align: top;\n",
              "    }\n",
              "\n",
              "    .dataframe thead th {\n",
              "        text-align: right;\n",
              "    }\n",
              "</style>\n",
              "<table border=\"1\" class=\"dataframe\">\n",
              "  <thead>\n",
              "    <tr style=\"text-align: right;\">\n",
              "      <th></th>\n",
              "      <th>nome_candidato</th>\n",
              "      <th>especie_receita</th>\n",
              "      <th>data_receita</th>\n",
              "      <th>valor_receita</th>\n",
              "      <th>sigla_uf_doador</th>\n",
              "      <th>nome_doador_rf</th>\n",
              "      <th>numero_documento_doacao</th>\n",
              "      <th>cpf_cnpj_doador</th>\n",
              "    </tr>\n",
              "  </thead>\n",
              "  <tbody>\n",
              "    <tr>\n",
              "      <th>0</th>\n",
              "      <td>JAIR MESSIAS BOLSONARO</td>\n",
              "      <td>pix</td>\n",
              "      <td>2022-10-24</td>\n",
              "      <td>30.00</td>\n",
              "      <td>None</td>\n",
              "      <td>ENAURA SOUZA DO NASCIMENTO</td>\n",
              "      <td>2162931473</td>\n",
              "      <td>21701148587</td>\n",
              "    </tr>\n",
              "    <tr>\n",
              "      <th>1</th>\n",
              "      <td>JAIR MESSIAS BOLSONARO</td>\n",
              "      <td>pix</td>\n",
              "      <td>2022-09-28</td>\n",
              "      <td>50.00</td>\n",
              "      <td>None</td>\n",
              "      <td>LUCAS IVAR PRIMO</td>\n",
              "      <td>2025214606</td>\n",
              "      <td>04520293928</td>\n",
              "    </tr>\n",
              "    <tr>\n",
              "      <th>2</th>\n",
              "      <td>JAIR MESSIAS BOLSONARO</td>\n",
              "      <td>pix</td>\n",
              "      <td>2022-10-24</td>\n",
              "      <td>1.00</td>\n",
              "      <td>None</td>\n",
              "      <td>SIMIAO GERVANI KRUGER</td>\n",
              "      <td>2168383227</td>\n",
              "      <td>03092554736</td>\n",
              "    </tr>\n",
              "    <tr>\n",
              "      <th>3</th>\n",
              "      <td>JAIR MESSIAS BOLSONARO</td>\n",
              "      <td>pix</td>\n",
              "      <td>2022-10-21</td>\n",
              "      <td>108.22</td>\n",
              "      <td>None</td>\n",
              "      <td>SARI MARIANA COSTA GASPAR CORTE REAL</td>\n",
              "      <td>2156082538</td>\n",
              "      <td>08272827450</td>\n",
              "    </tr>\n",
              "    <tr>\n",
              "      <th>4</th>\n",
              "      <td>JAIR MESSIAS BOLSONARO</td>\n",
              "      <td>pix</td>\n",
              "      <td>2022-10-31</td>\n",
              "      <td>50.00</td>\n",
              "      <td>None</td>\n",
              "      <td>ANTONIO GIONA</td>\n",
              "      <td>2201646533</td>\n",
              "      <td>15833992915</td>\n",
              "    </tr>\n",
              "  </tbody>\n",
              "</table>\n",
              "</div>"
            ],
            "text/plain": [
              "           nome_candidato especie_receita data_receita  valor_receita  \\\n",
              "0  JAIR MESSIAS BOLSONARO             pix   2022-10-24          30.00   \n",
              "1  JAIR MESSIAS BOLSONARO             pix   2022-09-28          50.00   \n",
              "2  JAIR MESSIAS BOLSONARO             pix   2022-10-24           1.00   \n",
              "3  JAIR MESSIAS BOLSONARO             pix   2022-10-21         108.22   \n",
              "4  JAIR MESSIAS BOLSONARO             pix   2022-10-31          50.00   \n",
              "\n",
              "  sigla_uf_doador                        nome_doador_rf  \\\n",
              "0            None            ENAURA SOUZA DO NASCIMENTO   \n",
              "1            None                      LUCAS IVAR PRIMO   \n",
              "2            None                 SIMIAO GERVANI KRUGER   \n",
              "3            None  SARI MARIANA COSTA GASPAR CORTE REAL   \n",
              "4            None                         ANTONIO GIONA   \n",
              "\n",
              "  numero_documento_doacao cpf_cnpj_doador  \n",
              "0              2162931473     21701148587  \n",
              "1              2025214606     04520293928  \n",
              "2              2168383227     03092554736  \n",
              "3              2156082538     08272827450  \n",
              "4              2201646533     15833992915  "
            ]
          },
          "execution_count": 13,
          "metadata": {},
          "output_type": "execute_result"
        }
      ],
      "source": [
        "df_consulta.head()\n"
      ]
    },
    {
      "cell_type": "code",
      "execution_count": 19,
      "metadata": {},
      "outputs": [
        {
          "data": {
            "text/html": [
              "<div>\n",
              "<style scoped>\n",
              "    .dataframe tbody tr th:only-of-type {\n",
              "        vertical-align: middle;\n",
              "    }\n",
              "\n",
              "    .dataframe tbody tr th {\n",
              "        vertical-align: top;\n",
              "    }\n",
              "\n",
              "    .dataframe thead th {\n",
              "        text-align: right;\n",
              "    }\n",
              "</style>\n",
              "<table border=\"1\" class=\"dataframe\">\n",
              "  <thead>\n",
              "    <tr style=\"text-align: right;\">\n",
              "      <th></th>\n",
              "      <th>nome_candidato</th>\n",
              "      <th>especie_receita</th>\n",
              "      <th>data_receita</th>\n",
              "      <th>valor_receita</th>\n",
              "      <th>sigla_uf_doador</th>\n",
              "      <th>nome_doador_rf</th>\n",
              "      <th>numero_documento_doacao</th>\n",
              "      <th>cpf_cnpj_doador</th>\n",
              "    </tr>\n",
              "  </thead>\n",
              "  <tbody>\n",
              "    <tr>\n",
              "      <th>41368</th>\n",
              "      <td>JAIR MESSIAS BOLSONARO</td>\n",
              "      <td>pix</td>\n",
              "      <td>2022-09-12</td>\n",
              "      <td>1.00</td>\n",
              "      <td>None</td>\n",
              "      <td>IEDA SANTANA SANTOS</td>\n",
              "      <td>1945724236</td>\n",
              "      <td>00000100579</td>\n",
              "    </tr>\n",
              "    <tr>\n",
              "      <th>336028</th>\n",
              "      <td>JAIR MESSIAS BOLSONARO</td>\n",
              "      <td>pix</td>\n",
              "      <td>2022-10-05</td>\n",
              "      <td>1.00</td>\n",
              "      <td>None</td>\n",
              "      <td>GILIANA FERREIRA DE JESUS</td>\n",
              "      <td>2063527516</td>\n",
              "      <td>00000216283</td>\n",
              "    </tr>\n",
              "    <tr>\n",
              "      <th>4811</th>\n",
              "      <td>JAIR MESSIAS BOLSONARO</td>\n",
              "      <td>pix</td>\n",
              "      <td>2022-10-31</td>\n",
              "      <td>2.00</td>\n",
              "      <td>None</td>\n",
              "      <td>CHESTER MAIK SANCHES</td>\n",
              "      <td>2199366500</td>\n",
              "      <td>00000295213</td>\n",
              "    </tr>\n",
              "    <tr>\n",
              "      <th>366231</th>\n",
              "      <td>JAIR MESSIAS BOLSONARO</td>\n",
              "      <td>pix</td>\n",
              "      <td>2022-10-13</td>\n",
              "      <td>10.00</td>\n",
              "      <td>None</td>\n",
              "      <td>RAQUEL RODRIGUES BARBOSA</td>\n",
              "      <td>2117007295</td>\n",
              "      <td>00000330140</td>\n",
              "    </tr>\n",
              "    <tr>\n",
              "      <th>162407</th>\n",
              "      <td>JAIR MESSIAS BOLSONARO</td>\n",
              "      <td>pix</td>\n",
              "      <td>2022-09-13</td>\n",
              "      <td>1.00</td>\n",
              "      <td>None</td>\n",
              "      <td>KENNEDY ALEXANDRE BARCELLOS</td>\n",
              "      <td>1953794667</td>\n",
              "      <td>00000341770</td>\n",
              "    </tr>\n",
              "    <tr>\n",
              "      <th>...</th>\n",
              "      <td>...</td>\n",
              "      <td>...</td>\n",
              "      <td>...</td>\n",
              "      <td>...</td>\n",
              "      <td>...</td>\n",
              "      <td>...</td>\n",
              "      <td>...</td>\n",
              "      <td>...</td>\n",
              "    </tr>\n",
              "    <tr>\n",
              "      <th>352978</th>\n",
              "      <td>JAIR MESSIAS BOLSONARO</td>\n",
              "      <td>pix</td>\n",
              "      <td>2022-10-13</td>\n",
              "      <td>1.00</td>\n",
              "      <td>None</td>\n",
              "      <td>GILDA SOUZA DANTAS</td>\n",
              "      <td>2116944385</td>\n",
              "      <td>99999315534</td>\n",
              "    </tr>\n",
              "    <tr>\n",
              "      <th>27750</th>\n",
              "      <td>JAIR MESSIAS BOLSONARO</td>\n",
              "      <td>pix</td>\n",
              "      <td>2022-09-12</td>\n",
              "      <td>1.00</td>\n",
              "      <td>None</td>\n",
              "      <td>TIAGO KROLL</td>\n",
              "      <td>1946182216</td>\n",
              "      <td>99999757049</td>\n",
              "    </tr>\n",
              "    <tr>\n",
              "      <th>2315</th>\n",
              "      <td>JAIR MESSIAS BOLSONARO</td>\n",
              "      <td>--</td>\n",
              "      <td>2022-09-30</td>\n",
              "      <td>85485.03</td>\n",
              "      <td>None</td>\n",
              "      <td>None</td>\n",
              "      <td>None</td>\n",
              "      <td>None</td>\n",
              "    </tr>\n",
              "    <tr>\n",
              "      <th>2316</th>\n",
              "      <td>JAIR MESSIAS BOLSONARO</td>\n",
              "      <td>--</td>\n",
              "      <td>2022-10-31</td>\n",
              "      <td>29567.32</td>\n",
              "      <td>None</td>\n",
              "      <td>None</td>\n",
              "      <td>None</td>\n",
              "      <td>None</td>\n",
              "    </tr>\n",
              "    <tr>\n",
              "      <th>12072</th>\n",
              "      <td>JAIR MESSIAS BOLSONARO</td>\n",
              "      <td>--</td>\n",
              "      <td>2022-11-18</td>\n",
              "      <td>229301.69</td>\n",
              "      <td>None</td>\n",
              "      <td>None</td>\n",
              "      <td>None</td>\n",
              "      <td>None</td>\n",
              "    </tr>\n",
              "  </tbody>\n",
              "</table>\n",
              "<p>392164 rows × 8 columns</p>\n",
              "</div>"
            ],
            "text/plain": [
              "                nome_candidato especie_receita data_receita  valor_receita  \\\n",
              "41368   JAIR MESSIAS BOLSONARO             pix   2022-09-12           1.00   \n",
              "336028  JAIR MESSIAS BOLSONARO             pix   2022-10-05           1.00   \n",
              "4811    JAIR MESSIAS BOLSONARO             pix   2022-10-31           2.00   \n",
              "366231  JAIR MESSIAS BOLSONARO             pix   2022-10-13          10.00   \n",
              "162407  JAIR MESSIAS BOLSONARO             pix   2022-09-13           1.00   \n",
              "...                        ...             ...          ...            ...   \n",
              "352978  JAIR MESSIAS BOLSONARO             pix   2022-10-13           1.00   \n",
              "27750   JAIR MESSIAS BOLSONARO             pix   2022-09-12           1.00   \n",
              "2315    JAIR MESSIAS BOLSONARO              --   2022-09-30       85485.03   \n",
              "2316    JAIR MESSIAS BOLSONARO              --   2022-10-31       29567.32   \n",
              "12072   JAIR MESSIAS BOLSONARO              --   2022-11-18      229301.69   \n",
              "\n",
              "       sigla_uf_doador               nome_doador_rf numero_documento_doacao  \\\n",
              "41368             None          IEDA SANTANA SANTOS              1945724236   \n",
              "336028            None    GILIANA FERREIRA DE JESUS              2063527516   \n",
              "4811              None         CHESTER MAIK SANCHES              2199366500   \n",
              "366231            None     RAQUEL RODRIGUES BARBOSA              2117007295   \n",
              "162407            None  KENNEDY ALEXANDRE BARCELLOS              1953794667   \n",
              "...                ...                          ...                     ...   \n",
              "352978            None           GILDA SOUZA DANTAS              2116944385   \n",
              "27750             None                  TIAGO KROLL              1946182216   \n",
              "2315              None                         None                    None   \n",
              "2316              None                         None                    None   \n",
              "12072             None                         None                    None   \n",
              "\n",
              "       cpf_cnpj_doador  \n",
              "41368      00000100579  \n",
              "336028     00000216283  \n",
              "4811       00000295213  \n",
              "366231     00000330140  \n",
              "162407     00000341770  \n",
              "...                ...  \n",
              "352978     99999315534  \n",
              "27750      99999757049  \n",
              "2315              None  \n",
              "2316              None  \n",
              "12072             None  \n",
              "\n",
              "[392164 rows x 8 columns]"
            ]
          },
          "execution_count": 19,
          "metadata": {},
          "output_type": "execute_result"
        }
      ],
      "source": [
        "df_consulta.sort_values(\"cpf_cnpj_doador\")"
      ]
    },
    {
      "cell_type": "code",
      "execution_count": 34,
      "metadata": {},
      "outputs": [
        {
          "data": {
            "text/plain": [
              "cpf_cnpj_doador  nome_doador_rf             \n",
              "00000100579      IEDA SANTANA SANTOS             1.0\n",
              "00000216283      GILIANA FERREIRA DE JESUS       1.0\n",
              "00000295213      CHESTER MAIK SANCHES            2.0\n",
              "00000330140      RAQUEL RODRIGUES BARBOSA       10.0\n",
              "00000341770      KENNEDY ALEXANDRE BARCELLOS     1.0\n",
              "Name: valor_receita, dtype: float64"
            ]
          },
          "execution_count": 34,
          "metadata": {},
          "output_type": "execute_result"
        }
      ],
      "source": [
        "df_doadores_bolsonaro = df_consulta.groupby([\"cpf_cnpj_doador\", \"nome_doador_rf\"])[\"valor_receita\"].sum()\n",
        "df_doadores_bolsonaro.head()"
      ]
    },
    {
      "cell_type": "code",
      "execution_count": 36,
      "metadata": {},
      "outputs": [],
      "source": [
        "df_doadores_bolsonaro = df_doadores_bolsonaro.reset_index()"
      ]
    },
    {
      "cell_type": "code",
      "execution_count": 37,
      "metadata": {},
      "outputs": [
        {
          "data": {
            "text/html": [
              "<div>\n",
              "<style scoped>\n",
              "    .dataframe tbody tr th:only-of-type {\n",
              "        vertical-align: middle;\n",
              "    }\n",
              "\n",
              "    .dataframe tbody tr th {\n",
              "        vertical-align: top;\n",
              "    }\n",
              "\n",
              "    .dataframe thead th {\n",
              "        text-align: right;\n",
              "    }\n",
              "</style>\n",
              "<table border=\"1\" class=\"dataframe\">\n",
              "  <thead>\n",
              "    <tr style=\"text-align: right;\">\n",
              "      <th></th>\n",
              "      <th>cpf_cnpj_doador</th>\n",
              "      <th>nome_doador_rf</th>\n",
              "      <th>valor_receita</th>\n",
              "    </tr>\n",
              "  </thead>\n",
              "  <tbody>\n",
              "    <tr>\n",
              "      <th>0</th>\n",
              "      <td>00000100579</td>\n",
              "      <td>IEDA SANTANA SANTOS</td>\n",
              "      <td>1.0</td>\n",
              "    </tr>\n",
              "    <tr>\n",
              "      <th>1</th>\n",
              "      <td>00000216283</td>\n",
              "      <td>GILIANA FERREIRA DE JESUS</td>\n",
              "      <td>1.0</td>\n",
              "    </tr>\n",
              "    <tr>\n",
              "      <th>2</th>\n",
              "      <td>00000295213</td>\n",
              "      <td>CHESTER MAIK SANCHES</td>\n",
              "      <td>2.0</td>\n",
              "    </tr>\n",
              "    <tr>\n",
              "      <th>3</th>\n",
              "      <td>00000330140</td>\n",
              "      <td>RAQUEL RODRIGUES BARBOSA</td>\n",
              "      <td>10.0</td>\n",
              "    </tr>\n",
              "    <tr>\n",
              "      <th>4</th>\n",
              "      <td>00000341770</td>\n",
              "      <td>KENNEDY ALEXANDRE BARCELLOS</td>\n",
              "      <td>1.0</td>\n",
              "    </tr>\n",
              "  </tbody>\n",
              "</table>\n",
              "</div>"
            ],
            "text/plain": [
              "  cpf_cnpj_doador               nome_doador_rf  valor_receita\n",
              "0     00000100579          IEDA SANTANA SANTOS            1.0\n",
              "1     00000216283    GILIANA FERREIRA DE JESUS            1.0\n",
              "2     00000295213         CHESTER MAIK SANCHES            2.0\n",
              "3     00000330140     RAQUEL RODRIGUES BARBOSA           10.0\n",
              "4     00000341770  KENNEDY ALEXANDRE BARCELLOS            1.0"
            ]
          },
          "execution_count": 37,
          "metadata": {},
          "output_type": "execute_result"
        }
      ],
      "source": [
        "df_doadores_bolsonaro.head()"
      ]
    },
    {
      "cell_type": "code",
      "execution_count": 73,
      "metadata": {},
      "outputs": [
        {
          "name": "stdout",
          "output_type": "stream",
          "text": [
            "Achei: FABIOLA ZANCANARO QUEIROZ GRECCO | CPF: 271081 | Valor: 200.0 \n",
            "-------\n",
            "Achei: JUAN ALESSANDRO HERNANDEZ DIBO | CPF: 644271 | Valor: 1.0 \n",
            "-------\n",
            "Achei: MARIA DO SOCORRO CAVALCANTE MUGGLER | CPF: 162101 | Valor: 50.0 \n",
            "-------\n"
          ]
        },
        {
          "ename": "KeyboardInterrupt",
          "evalue": "",
          "output_type": "error",
          "traceback": [
            "\u001b[0;31m---------------------------------------------------------------------------\u001b[0m",
            "\u001b[0;31mKeyboardInterrupt\u001b[0m                         Traceback (most recent call last)",
            "\u001b[0;32m/var/folders/6x/mpdqd10961j55x6_pl8spyqmvpkspx/T/ipykernel_74550/2676608730.py\u001b[0m in \u001b[0;36m<module>\u001b[0;34m\u001b[0m\n\u001b[1;32m     18\u001b[0m \u001b[0;34m\u001b[0m\u001b[0m\n\u001b[1;32m     19\u001b[0m     \u001b[0;31m# if df_socios_prestadores[\"nomes_socios\"].str.contains(nome_doador):\u001b[0m\u001b[0;34m\u001b[0m\u001b[0;34m\u001b[0m\u001b[0m\n\u001b[0;32m---> 20\u001b[0;31m     \u001b[0;32mif\u001b[0m \u001b[0mdf_socios_prestadores\u001b[0m\u001b[0;34m[\u001b[0m\u001b[0;34m\"nomes_socios\"\u001b[0m\u001b[0;34m]\u001b[0m\u001b[0;34m.\u001b[0m\u001b[0mstr\u001b[0m\u001b[0;34m.\u001b[0m\u001b[0mcontains\u001b[0m\u001b[0;34m(\u001b[0m\u001b[0mnome_doador\u001b[0m\u001b[0;34m)\u001b[0m\u001b[0;34m.\u001b[0m\u001b[0many\u001b[0m\u001b[0;34m(\u001b[0m\u001b[0;34m)\u001b[0m \u001b[0;32mand\u001b[0m \u001b[0mdf_socios_prestadores\u001b[0m\u001b[0;34m[\u001b[0m\u001b[0;34m\"cpf_socios\"\u001b[0m\u001b[0;34m]\u001b[0m\u001b[0;34m.\u001b[0m\u001b[0mstr\u001b[0m\u001b[0;34m.\u001b[0m\u001b[0mcontains\u001b[0m\u001b[0;34m(\u001b[0m\u001b[0mcpf_doador\u001b[0m\u001b[0;34m)\u001b[0m\u001b[0;34m.\u001b[0m\u001b[0many\u001b[0m\u001b[0;34m(\u001b[0m\u001b[0;34m)\u001b[0m\u001b[0;34m:\u001b[0m\u001b[0;34m\u001b[0m\u001b[0;34m\u001b[0m\u001b[0m\n\u001b[0m\u001b[1;32m     21\u001b[0m         \u001b[0mprint\u001b[0m\u001b[0;34m(\u001b[0m\u001b[0;34mf\"Achei: {nome_doador} | CPF: {cpf_doador} | Valor: {valor_doador} \"\u001b[0m\u001b[0;34m)\u001b[0m\u001b[0;34m\u001b[0m\u001b[0;34m\u001b[0m\u001b[0m\n\u001b[1;32m     22\u001b[0m \u001b[0;34m\u001b[0m\u001b[0m\n",
            "\u001b[0;32m~/opt/anaconda3/lib/python3.9/site-packages/pandas/core/strings/accessor.py\u001b[0m in \u001b[0;36mwrapper\u001b[0;34m(self, *args, **kwargs)\u001b[0m\n\u001b[1;32m    123\u001b[0m                 )\n\u001b[1;32m    124\u001b[0m                 \u001b[0;32mraise\u001b[0m \u001b[0mTypeError\u001b[0m\u001b[0;34m(\u001b[0m\u001b[0mmsg\u001b[0m\u001b[0;34m)\u001b[0m\u001b[0;34m\u001b[0m\u001b[0;34m\u001b[0m\u001b[0m\n\u001b[0;32m--> 125\u001b[0;31m             \u001b[0;32mreturn\u001b[0m \u001b[0mfunc\u001b[0m\u001b[0;34m(\u001b[0m\u001b[0mself\u001b[0m\u001b[0;34m,\u001b[0m \u001b[0;34m*\u001b[0m\u001b[0margs\u001b[0m\u001b[0;34m,\u001b[0m \u001b[0;34m**\u001b[0m\u001b[0mkwargs\u001b[0m\u001b[0;34m)\u001b[0m\u001b[0;34m\u001b[0m\u001b[0;34m\u001b[0m\u001b[0m\n\u001b[0m\u001b[1;32m    126\u001b[0m \u001b[0;34m\u001b[0m\u001b[0m\n\u001b[1;32m    127\u001b[0m         \u001b[0mwrapper\u001b[0m\u001b[0;34m.\u001b[0m\u001b[0m__name__\u001b[0m \u001b[0;34m=\u001b[0m \u001b[0mfunc_name\u001b[0m\u001b[0;34m\u001b[0m\u001b[0;34m\u001b[0m\u001b[0m\n",
            "\u001b[0;32m~/opt/anaconda3/lib/python3.9/site-packages/pandas/core/strings/accessor.py\u001b[0m in \u001b[0;36mcontains\u001b[0;34m(self, pat, case, flags, na, regex)\u001b[0m\n\u001b[1;32m   1220\u001b[0m             )\n\u001b[1;32m   1221\u001b[0m \u001b[0;34m\u001b[0m\u001b[0m\n\u001b[0;32m-> 1222\u001b[0;31m         \u001b[0mresult\u001b[0m \u001b[0;34m=\u001b[0m \u001b[0mself\u001b[0m\u001b[0;34m.\u001b[0m\u001b[0m_data\u001b[0m\u001b[0;34m.\u001b[0m\u001b[0marray\u001b[0m\u001b[0;34m.\u001b[0m\u001b[0m_str_contains\u001b[0m\u001b[0;34m(\u001b[0m\u001b[0mpat\u001b[0m\u001b[0;34m,\u001b[0m \u001b[0mcase\u001b[0m\u001b[0;34m,\u001b[0m \u001b[0mflags\u001b[0m\u001b[0;34m,\u001b[0m \u001b[0mna\u001b[0m\u001b[0;34m,\u001b[0m \u001b[0mregex\u001b[0m\u001b[0;34m)\u001b[0m\u001b[0;34m\u001b[0m\u001b[0;34m\u001b[0m\u001b[0m\n\u001b[0m\u001b[1;32m   1223\u001b[0m         \u001b[0;32mreturn\u001b[0m \u001b[0mself\u001b[0m\u001b[0;34m.\u001b[0m\u001b[0m_wrap_result\u001b[0m\u001b[0;34m(\u001b[0m\u001b[0mresult\u001b[0m\u001b[0;34m,\u001b[0m \u001b[0mfill_value\u001b[0m\u001b[0;34m=\u001b[0m\u001b[0mna\u001b[0m\u001b[0;34m,\u001b[0m \u001b[0mreturns_string\u001b[0m\u001b[0;34m=\u001b[0m\u001b[0;32mFalse\u001b[0m\u001b[0;34m)\u001b[0m\u001b[0;34m\u001b[0m\u001b[0;34m\u001b[0m\u001b[0m\n\u001b[1;32m   1224\u001b[0m \u001b[0;34m\u001b[0m\u001b[0m\n",
            "\u001b[0;32m~/opt/anaconda3/lib/python3.9/site-packages/pandas/core/strings/object_array.py\u001b[0m in \u001b[0;36m_str_contains\u001b[0;34m(self, pat, case, flags, na, regex)\u001b[0m\n\u001b[1;32m    129\u001b[0m                 \u001b[0mupper_pat\u001b[0m \u001b[0;34m=\u001b[0m \u001b[0mpat\u001b[0m\u001b[0;34m.\u001b[0m\u001b[0mupper\u001b[0m\u001b[0;34m(\u001b[0m\u001b[0;34m)\u001b[0m\u001b[0;34m\u001b[0m\u001b[0;34m\u001b[0m\u001b[0m\n\u001b[1;32m    130\u001b[0m                 \u001b[0mf\u001b[0m \u001b[0;34m=\u001b[0m \u001b[0;32mlambda\u001b[0m \u001b[0mx\u001b[0m\u001b[0;34m:\u001b[0m \u001b[0mupper_pat\u001b[0m \u001b[0;32min\u001b[0m \u001b[0mx\u001b[0m\u001b[0;34m.\u001b[0m\u001b[0mupper\u001b[0m\u001b[0;34m(\u001b[0m\u001b[0;34m)\u001b[0m\u001b[0;34m\u001b[0m\u001b[0;34m\u001b[0m\u001b[0m\n\u001b[0;32m--> 131\u001b[0;31m         \u001b[0;32mreturn\u001b[0m \u001b[0mself\u001b[0m\u001b[0;34m.\u001b[0m\u001b[0m_str_map\u001b[0m\u001b[0;34m(\u001b[0m\u001b[0mf\u001b[0m\u001b[0;34m,\u001b[0m \u001b[0mna\u001b[0m\u001b[0;34m,\u001b[0m \u001b[0mdtype\u001b[0m\u001b[0;34m=\u001b[0m\u001b[0mnp\u001b[0m\u001b[0;34m.\u001b[0m\u001b[0mdtype\u001b[0m\u001b[0;34m(\u001b[0m\u001b[0;34m\"bool\"\u001b[0m\u001b[0;34m)\u001b[0m\u001b[0;34m)\u001b[0m\u001b[0;34m\u001b[0m\u001b[0;34m\u001b[0m\u001b[0m\n\u001b[0m\u001b[1;32m    132\u001b[0m \u001b[0;34m\u001b[0m\u001b[0m\n\u001b[1;32m    133\u001b[0m     \u001b[0;32mdef\u001b[0m \u001b[0m_str_startswith\u001b[0m\u001b[0;34m(\u001b[0m\u001b[0mself\u001b[0m\u001b[0;34m,\u001b[0m \u001b[0mpat\u001b[0m\u001b[0;34m,\u001b[0m \u001b[0mna\u001b[0m\u001b[0;34m=\u001b[0m\u001b[0;32mNone\u001b[0m\u001b[0;34m)\u001b[0m\u001b[0;34m:\u001b[0m\u001b[0;34m\u001b[0m\u001b[0;34m\u001b[0m\u001b[0m\n",
            "\u001b[0;32m~/opt/anaconda3/lib/python3.9/site-packages/pandas/core/strings/object_array.py\u001b[0m in \u001b[0;36m_str_map\u001b[0;34m(self, f, na_value, dtype, convert)\u001b[0m\n\u001b[1;32m     69\u001b[0m         \u001b[0mmap_convert\u001b[0m \u001b[0;34m=\u001b[0m \u001b[0mconvert\u001b[0m \u001b[0;32mand\u001b[0m \u001b[0;32mnot\u001b[0m \u001b[0mnp\u001b[0m\u001b[0;34m.\u001b[0m\u001b[0mall\u001b[0m\u001b[0;34m(\u001b[0m\u001b[0mmask\u001b[0m\u001b[0;34m)\u001b[0m\u001b[0;34m\u001b[0m\u001b[0;34m\u001b[0m\u001b[0m\n\u001b[1;32m     70\u001b[0m         \u001b[0;32mtry\u001b[0m\u001b[0;34m:\u001b[0m\u001b[0;34m\u001b[0m\u001b[0;34m\u001b[0m\u001b[0m\n\u001b[0;32m---> 71\u001b[0;31m             \u001b[0mresult\u001b[0m \u001b[0;34m=\u001b[0m \u001b[0mlib\u001b[0m\u001b[0;34m.\u001b[0m\u001b[0mmap_infer_mask\u001b[0m\u001b[0;34m(\u001b[0m\u001b[0marr\u001b[0m\u001b[0;34m,\u001b[0m \u001b[0mf\u001b[0m\u001b[0;34m,\u001b[0m \u001b[0mmask\u001b[0m\u001b[0;34m.\u001b[0m\u001b[0mview\u001b[0m\u001b[0;34m(\u001b[0m\u001b[0mnp\u001b[0m\u001b[0;34m.\u001b[0m\u001b[0muint8\u001b[0m\u001b[0;34m)\u001b[0m\u001b[0;34m,\u001b[0m \u001b[0mmap_convert\u001b[0m\u001b[0;34m)\u001b[0m\u001b[0;34m\u001b[0m\u001b[0;34m\u001b[0m\u001b[0m\n\u001b[0m\u001b[1;32m     72\u001b[0m         \u001b[0;32mexcept\u001b[0m \u001b[0;34m(\u001b[0m\u001b[0mTypeError\u001b[0m\u001b[0;34m,\u001b[0m \u001b[0mAttributeError\u001b[0m\u001b[0;34m)\u001b[0m \u001b[0;32mas\u001b[0m \u001b[0merr\u001b[0m\u001b[0;34m:\u001b[0m\u001b[0;34m\u001b[0m\u001b[0;34m\u001b[0m\u001b[0m\n\u001b[1;32m     73\u001b[0m             \u001b[0;31m# Reraise the exception if callable `f` got wrong number of args.\u001b[0m\u001b[0;34m\u001b[0m\u001b[0;34m\u001b[0m\u001b[0m\n",
            "\u001b[0;32m~/opt/anaconda3/lib/python3.9/site-packages/pandas/_libs/lib.pyx\u001b[0m in \u001b[0;36mpandas._libs.lib.map_infer_mask\u001b[0;34m()\u001b[0m\n",
            "\u001b[0;32m~/opt/anaconda3/lib/python3.9/site-packages/pandas/core/strings/object_array.py\u001b[0m in \u001b[0;36m<lambda>\u001b[0;34m(x)\u001b[0m\n\u001b[1;32m    122\u001b[0m             \u001b[0mpat\u001b[0m \u001b[0;34m=\u001b[0m \u001b[0mre\u001b[0m\u001b[0;34m.\u001b[0m\u001b[0mcompile\u001b[0m\u001b[0;34m(\u001b[0m\u001b[0mpat\u001b[0m\u001b[0;34m,\u001b[0m \u001b[0mflags\u001b[0m\u001b[0;34m=\u001b[0m\u001b[0mflags\u001b[0m\u001b[0;34m)\u001b[0m\u001b[0;34m\u001b[0m\u001b[0;34m\u001b[0m\u001b[0m\n\u001b[1;32m    123\u001b[0m \u001b[0;34m\u001b[0m\u001b[0m\n\u001b[0;32m--> 124\u001b[0;31m             \u001b[0mf\u001b[0m \u001b[0;34m=\u001b[0m \u001b[0;32mlambda\u001b[0m \u001b[0mx\u001b[0m\u001b[0;34m:\u001b[0m \u001b[0mpat\u001b[0m\u001b[0;34m.\u001b[0m\u001b[0msearch\u001b[0m\u001b[0;34m(\u001b[0m\u001b[0mx\u001b[0m\u001b[0;34m)\u001b[0m \u001b[0;32mis\u001b[0m \u001b[0;32mnot\u001b[0m \u001b[0;32mNone\u001b[0m\u001b[0;34m\u001b[0m\u001b[0;34m\u001b[0m\u001b[0m\n\u001b[0m\u001b[1;32m    125\u001b[0m         \u001b[0;32melse\u001b[0m\u001b[0;34m:\u001b[0m\u001b[0;34m\u001b[0m\u001b[0;34m\u001b[0m\u001b[0m\n\u001b[1;32m    126\u001b[0m             \u001b[0;32mif\u001b[0m \u001b[0mcase\u001b[0m\u001b[0;34m:\u001b[0m\u001b[0;34m\u001b[0m\u001b[0;34m\u001b[0m\u001b[0m\n",
            "\u001b[0;31mKeyboardInterrupt\u001b[0m: "
          ]
        }
      ],
      "source": [
        "lista_doadores_prestadores = []\n",
        "\n",
        "for doador in df_doadores_bolsonaro.values:\n",
        "    # print(doador[-1])\n",
        "    nome_doador = doador[1]\n",
        "    nome_doador = str(nome_doador)\n",
        "    valor_doador = doador[2]\n",
        "    cpf_doador = doador[0]\n",
        "    cpf_doador = str(cpf_doador)\n",
        "\n",
        "    if cpf_doador.startswith(\"00000\"):\n",
        "        cpf_doador = cpf_doador[5:]\n",
        "        # print(cpf_doador)\n",
        "    else:\n",
        "        cpf_doador = cpf_doador[3:]\n",
        "        cpf_doador = cpf_doador[:-2]\n",
        "        # print(cpf_doador)\n",
        "\n",
        "    # if df_socios_prestadores[\"nomes_socios\"].str.contains(nome_doador):\n",
        "    if df_socios_prestadores[\"nomes_socios\"].str.contains(nome_doador).any() and df_socios_prestadores[\"cpf_socios\"].str.contains(cpf_doador).any():\n",
        "        print(f\"Achei: {nome_doador} | CPF: {cpf_doador} | Valor: {valor_doador} \")\n",
        "\n",
        "        print(\"-------\")\n",
        "    # print(\"-------\")"
      ]
    },
    {
      "cell_type": "code",
      "execution_count": 71,
      "metadata": {},
      "outputs": [
        {
          "data": {
            "text/html": [
              "<div>\n",
              "<style scoped>\n",
              "    .dataframe tbody tr th:only-of-type {\n",
              "        vertical-align: middle;\n",
              "    }\n",
              "\n",
              "    .dataframe tbody tr th {\n",
              "        vertical-align: top;\n",
              "    }\n",
              "\n",
              "    .dataframe thead th {\n",
              "        text-align: right;\n",
              "    }\n",
              "</style>\n",
              "<table border=\"1\" class=\"dataframe\">\n",
              "  <thead>\n",
              "    <tr style=\"text-align: right;\">\n",
              "      <th></th>\n",
              "      <th>Unnamed: 0</th>\n",
              "      <th>DATA PGTO</th>\n",
              "      <th>ANO</th>\n",
              "      <th>CPF SERVIDOR</th>\n",
              "      <th>CPF/CNPJ FORNECEDOR</th>\n",
              "      <th>NOME FORNECEDOR</th>\n",
              "      <th>VALOR</th>\n",
              "      <th>TIPO</th>\n",
              "      <th>SUBELEMENTO DE DESPESA</th>\n",
              "      <th>CDIC</th>\n",
              "      <th>pais</th>\n",
              "      <th>uf</th>\n",
              "      <th>municipio</th>\n",
              "      <th>bairro</th>\n",
              "      <th>logradouro</th>\n",
              "      <th>nome_fantasia</th>\n",
              "      <th>quant_socios</th>\n",
              "      <th>nomes_socios</th>\n",
              "      <th>cpf_socios</th>\n",
              "      <th>faixa_etaria_socios</th>\n",
              "    </tr>\n",
              "  </thead>\n",
              "  <tbody>\n",
              "    <tr>\n",
              "      <th>0</th>\n",
              "      <td>0</td>\n",
              "      <td>04/01/2019</td>\n",
              "      <td>2019</td>\n",
              "      <td>***.135.521-**</td>\n",
              "      <td>3.696869e+12</td>\n",
              "      <td>BIG TRANS COMERCIAL DE ALIMENTOS LTDA</td>\n",
              "      <td>R$ 303,78</td>\n",
              "      <td>C</td>\n",
              "      <td>GENEROS DE ALIMENTA€ÇO</td>\n",
              "      <td>00140.000911/2018-70.R.08.01/01/2019/31/12/2018.N</td>\n",
              "      <td>NaN</td>\n",
              "      <td>DF</td>\n",
              "      <td>BRASILIA</td>\n",
              "      <td>ASA NORTE</td>\n",
              "      <td>SHCN EQ 402/403</td>\n",
              "      <td>BIG BOX SUPERMERCADOS</td>\n",
              "      <td>2.0</td>\n",
              "      <td>['JORGE HELOU FILHO', 'MARIO HABKA']</td>\n",
              "      <td>['***414011**', '***983451**']</td>\n",
              "      <td>['Entre 61 a 70 anos', 'Entre 61 a 70 anos']</td>\n",
              "    </tr>\n",
              "  </tbody>\n",
              "</table>\n",
              "</div>"
            ],
            "text/plain": [
              "   Unnamed: 0   DATA PGTO   ANO    CPF SERVIDOR  CPF/CNPJ FORNECEDOR  \\\n",
              "0           0  04/01/2019  2019  ***.135.521-**         3.696869e+12   \n",
              "\n",
              "                         NOME FORNECEDOR      VALOR TIPO  \\\n",
              "0  BIG TRANS COMERCIAL DE ALIMENTOS LTDA  R$ 303,78    C   \n",
              "\n",
              "   SUBELEMENTO DE DESPESA                                               CDIC  \\\n",
              "0  GENEROS DE ALIMENTA€ÇO  00140.000911/2018-70.R.08.01/01/2019/31/12/2018.N   \n",
              "\n",
              "   pais  uf municipio     bairro       logradouro          nome_fantasia  \\\n",
              "0   NaN  DF  BRASILIA  ASA NORTE  SHCN EQ 402/403  BIG BOX SUPERMERCADOS   \n",
              "\n",
              "   quant_socios                          nomes_socios  \\\n",
              "0           2.0  ['JORGE HELOU FILHO', 'MARIO HABKA']   \n",
              "\n",
              "                       cpf_socios  \\\n",
              "0  ['***414011**', '***983451**']   \n",
              "\n",
              "                            faixa_etaria_socios  \n",
              "0  ['Entre 61 a 70 anos', 'Entre 61 a 70 anos']  "
            ]
          },
          "execution_count": 71,
          "metadata": {},
          "output_type": "execute_result"
        }
      ],
      "source": [
        "df_socios_prestadores.head(1)"
      ]
    },
    {
      "cell_type": "code",
      "execution_count": 66,
      "metadata": {},
      "outputs": [
        {
          "data": {
            "text/plain": [
              "array([\"['JORGE HELOU FILHO', 'MARIO HABKA']\",\n",
              "       \"['ROBSON MACHADO SILVA', 'THAIS MACHADO DOS SANTOS HONORATO']\",\n",
              "       \"['AYLA MARTA DA SILVA FERNANDES']\", ...,\n",
              "       \"['GUILLAUME MARIE DIDIER GRAS', 'FREDERIC GARCIA', 'MARCELO RIBEIRO PIMENTEL', 'JOAQUIM ALEXANDRE FERNANDES SOUSA']\",\n",
              "       \"['MARCELO LUIZ RAMOS']\", \"['JORGE HELOU FILHO', 'MARIO HABKA']\"],\n",
              "      dtype=object)"
            ]
          },
          "execution_count": 66,
          "metadata": {},
          "output_type": "execute_result"
        }
      ],
      "source": [
        "df_socios_prestadores[\"nomes_socios\"].values"
      ]
    },
    {
      "cell_type": "code",
      "execution_count": null,
      "metadata": {},
      "outputs": [],
      "source": []
    }
  ],
  "metadata": {
    "colab": {
      "provenance": []
    },
    "kernelspec": {
      "display_name": "base",
      "language": "python",
      "name": "python3"
    },
    "language_info": {
      "codemirror_mode": {
        "name": "ipython",
        "version": 3
      },
      "file_extension": ".py",
      "mimetype": "text/x-python",
      "name": "python",
      "nbconvert_exporter": "python",
      "pygments_lexer": "ipython3",
      "version": "3.9.13"
    },
    "vscode": {
      "interpreter": {
        "hash": "7f053cac19d58cad32fae966e0d66a9b484695a527e688d5edbec5272e8d2164"
      }
    }
  },
  "nbformat": 4,
  "nbformat_minor": 0
}
